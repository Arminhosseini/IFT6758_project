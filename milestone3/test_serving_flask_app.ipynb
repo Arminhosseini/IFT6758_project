{
 "cells": [
  {
   "cell_type": "code",
   "execution_count": 4,
   "metadata": {},
   "outputs": [],
   "source": [
    "import os \n",
    "import numpy as np\n",
    "import json\n",
    "import requests\n",
    "import pandas as pd\n",
    "from pathlib import Path\n",
    "from dotenv import load_dotenv\n",
    "from comet_ml import API"
   ]
  },
  {
   "cell_type": "markdown",
   "metadata": {},
   "source": [
    "# 2. Test part 2"
   ]
  },
  {
   "cell_type": "code",
   "execution_count": 29,
   "metadata": {},
   "outputs": [],
   "source": [
    "IP = \"0.0.0.0\"\n",
    "PORT = 5000\n",
    "\n",
    "BASE_URL = f\"http://{IP}:{PORT}\""
   ]
  },
  {
   "cell_type": "code",
   "execution_count": 32,
   "metadata": {},
   "outputs": [
    {
     "name": "stdout",
     "output_type": "stream",
     "text": [
      "{'y_pred': 0.2159}\n"
     ]
    }
   ],
   "source": [
    "dist = 0.1\n",
    "input_features = {\"dist\": dist}\n",
    "input_json = json.dumps(input_features)\n",
    "\n",
    "r = requests.post(f\"{BASE_URL}/predict\", json=json.loads(input_json))\n",
    "print(r.json())"
   ]
  },
  {
   "cell_type": "markdown",
   "metadata": {},
   "source": [
    "# 3. Test part 3"
   ]
  },
  {
   "cell_type": "code",
   "execution_count": 3,
   "metadata": {},
   "outputs": [
    {
     "data": {
      "text/plain": [
       "'j3DrC3ChXkR42WfPCUh5EIkye'"
      ]
     },
     "execution_count": 3,
     "metadata": {},
     "output_type": "execute_result"
    }
   ],
   "source": [
    "load_dotenv()\n",
    "comet_api_key = os.environ.get(\"COMET_API_KEY\")\n",
    "comet_api_key"
   ]
  },
  {
   "cell_type": "code",
   "execution_count": 10,
   "metadata": {},
   "outputs": [],
   "source": [
    "workspace = r\"ift6758-b09-project\"\n",
    "model_name=\"log_reg_dist\"\n",
    "version = \"1.0.0\"\n",
    "\n",
    "api = API(api_key=os.environ.get('COMET_API_KEY'))\n",
    "models_dir = os.path.join(\"./\")\n",
    "downloaded_model = api.get_model(workspace=workspace, model_name=model_name)\n",
    "# downloaded_model.download(version, output_folder=models_dir, expand=True)"
   ]
  },
  {
   "cell_type": "code",
   "execution_count": null,
   "metadata": {},
   "outputs": [],
   "source": []
  }
 ],
 "metadata": {
  "kernelspec": {
   "display_name": "ds_env",
   "language": "python",
   "name": "python3"
  },
  "language_info": {
   "codemirror_mode": {
    "name": "ipython",
    "version": 3
   },
   "file_extension": ".py",
   "mimetype": "text/x-python",
   "name": "python",
   "nbconvert_exporter": "python",
   "pygments_lexer": "ipython3",
   "version": "3.9.18"
  }
 },
 "nbformat": 4,
 "nbformat_minor": 2
}
