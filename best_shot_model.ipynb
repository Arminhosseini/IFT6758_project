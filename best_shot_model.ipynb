{
 "cells": [
  {
   "cell_type": "code",
   "execution_count": 78,
   "metadata": {},
   "outputs": [],
   "source": [
    "import os\n",
    "from dotenv import load_dotenv\n",
    "load_dotenv()\n",
    "import warnings\n",
    "warnings.filterwarnings(\"ignore\")\n",
    "import numpy as np\n",
    "import pandas as pd\n",
    "pd.set_option('display.max_rows', 500)\n",
    "pd.set_option('display.max_columns', 500)\n",
    "from PIL import Image\n",
    "import matplotlib.pyplot as plt\n",
    "import seaborn as sns\n",
    "from collections import Counter\n",
    "\n",
    "from sklearn.feature_selection import SelectKBest, mutual_info_classif\n",
    "from sklearn.preprocessing import OneHotEncoder, StandardScaler\n",
    "from sklearn.tree import DecisionTreeClassifier\n",
    "from sklearn.ensemble import RandomForestClassifier\n",
    "from sklearn.neighbors import KNeighborsClassifier\n",
    "from sklearn.metrics import accuracy_score, confusion_matrix, classification_report\n",
    "from sklearn.model_selection import GridSearchCV, train_test_split\n",
    "from sklearn.metrics import roc_curve, auc, roc_auc_score, accuracy_score, f1_score\n",
    "from sklearn.calibration import calibration_curve\n",
    "import joblib\n",
    "\n",
    "from imblearn.over_sampling import RandomOverSampler"
   ]
  },
  {
   "cell_type": "markdown",
   "metadata": {},
   "source": [
    "# 0. Read dataset"
   ]
  },
  {
   "cell_type": "code",
   "execution_count": 40,
   "metadata": {},
   "outputs": [],
   "source": [
    "# path_csv = r\"Dataset/tidyData_fe3.csv\"\n",
    "path_train_csv = r\"Dataset/train.csv\""
   ]
  },
  {
   "cell_type": "code",
   "execution_count": 41,
   "metadata": {},
   "outputs": [
    {
     "name": "stdout",
     "output_type": "stream",
     "text": [
      "Shape of df_train: (295862, 23)\n"
     ]
    }
   ],
   "source": [
    "df_train = pd.read_csv(path_train_csv)\n",
    "df_train.dropna(inplace=True)\n",
    "df_train = df_train.loc[:, ~df_train.columns.str.contains('^Unnamed')]\n",
    "print(f\"Shape of df_train: {df_train.shape}\")"
   ]
  },
  {
   "cell_type": "code",
   "execution_count": 42,
   "metadata": {},
   "outputs": [
    {
     "name": "stdout",
     "output_type": "stream",
     "text": [
      "Shape of df_train: (236689, 23)\n",
      "Shape of df_val: (59173, 23)\n"
     ]
    },
    {
     "data": {
      "text/html": [
       "<div>\n",
       "<style scoped>\n",
       "    .dataframe tbody tr th:only-of-type {\n",
       "        vertical-align: middle;\n",
       "    }\n",
       "\n",
       "    .dataframe tbody tr th {\n",
       "        vertical-align: top;\n",
       "    }\n",
       "\n",
       "    .dataframe thead th {\n",
       "        text-align: right;\n",
       "    }\n",
       "</style>\n",
       "<table border=\"1\" class=\"dataframe\">\n",
       "  <thead>\n",
       "    <tr style=\"text-align: right;\">\n",
       "      <th></th>\n",
       "      <th>periodTime</th>\n",
       "      <th>period</th>\n",
       "      <th>x-coordinate</th>\n",
       "      <th>y-coordinate</th>\n",
       "      <th>attackingSide</th>\n",
       "      <th>shot_distance</th>\n",
       "      <th>angle</th>\n",
       "      <th>isEmptyNet</th>\n",
       "      <th>shotType</th>\n",
       "      <th>last_event_type</th>\n",
       "      <th>coor_x_last_event</th>\n",
       "      <th>coor_y_last_event</th>\n",
       "      <th>time_last_event</th>\n",
       "      <th>distance_last_event</th>\n",
       "      <th>is_rebound</th>\n",
       "      <th>Change in shot angle</th>\n",
       "      <th>Speed</th>\n",
       "      <th>power_play_time</th>\n",
       "      <th>n_friend</th>\n",
       "      <th>n_oppose</th>\n",
       "      <th>isgoal</th>\n",
       "      <th>period_second</th>\n",
       "      <th>game_second</th>\n",
       "    </tr>\n",
       "  </thead>\n",
       "  <tbody>\n",
       "    <tr>\n",
       "      <th>208941</th>\n",
       "      <td>06:29</td>\n",
       "      <td>3</td>\n",
       "      <td>-62.0</td>\n",
       "      <td>-5.0</td>\n",
       "      <td>left</td>\n",
       "      <td>27.459060</td>\n",
       "      <td>-0.183111</td>\n",
       "      <td>0</td>\n",
       "      <td>Wrist Shot</td>\n",
       "      <td>Missed Shot</td>\n",
       "      <td>64.0</td>\n",
       "      <td>-5.0</td>\n",
       "      <td>14.0</td>\n",
       "      <td>126.000000</td>\n",
       "      <td>True</td>\n",
       "      <td>-1.104912</td>\n",
       "      <td>9.000000</td>\n",
       "      <td>0</td>\n",
       "      <td>5</td>\n",
       "      <td>5</td>\n",
       "      <td>1</td>\n",
       "      <td>389</td>\n",
       "      <td>3989</td>\n",
       "    </tr>\n",
       "    <tr>\n",
       "      <th>226981</th>\n",
       "      <td>14:07</td>\n",
       "      <td>1</td>\n",
       "      <td>79.0</td>\n",
       "      <td>3.0</td>\n",
       "      <td>right</td>\n",
       "      <td>10.440307</td>\n",
       "      <td>0.291457</td>\n",
       "      <td>0</td>\n",
       "      <td>Wrist Shot</td>\n",
       "      <td>Faceoff</td>\n",
       "      <td>0.0</td>\n",
       "      <td>0.0</td>\n",
       "      <td>18.0</td>\n",
       "      <td>79.056942</td>\n",
       "      <td>False</td>\n",
       "      <td>0.000000</td>\n",
       "      <td>4.392052</td>\n",
       "      <td>11</td>\n",
       "      <td>4</td>\n",
       "      <td>3</td>\n",
       "      <td>0</td>\n",
       "      <td>847</td>\n",
       "      <td>2047</td>\n",
       "    </tr>\n",
       "    <tr>\n",
       "      <th>45997</th>\n",
       "      <td>17:06</td>\n",
       "      <td>2</td>\n",
       "      <td>-50.0</td>\n",
       "      <td>-1.0</td>\n",
       "      <td>left</td>\n",
       "      <td>39.012818</td>\n",
       "      <td>-0.025635</td>\n",
       "      <td>0</td>\n",
       "      <td>Snap Shot</td>\n",
       "      <td>Giveaway</td>\n",
       "      <td>-96.0</td>\n",
       "      <td>7.0</td>\n",
       "      <td>4.0</td>\n",
       "      <td>46.690470</td>\n",
       "      <td>False</td>\n",
       "      <td>0.000000</td>\n",
       "      <td>11.672618</td>\n",
       "      <td>0</td>\n",
       "      <td>5</td>\n",
       "      <td>5</td>\n",
       "      <td>0</td>\n",
       "      <td>1026</td>\n",
       "      <td>3426</td>\n",
       "    </tr>\n",
       "    <tr>\n",
       "      <th>14458</th>\n",
       "      <td>08:58</td>\n",
       "      <td>3</td>\n",
       "      <td>81.0</td>\n",
       "      <td>-2.0</td>\n",
       "      <td>right</td>\n",
       "      <td>8.246211</td>\n",
       "      <td>-0.244979</td>\n",
       "      <td>0</td>\n",
       "      <td>Wrist Shot</td>\n",
       "      <td>Giveaway</td>\n",
       "      <td>-19.0</td>\n",
       "      <td>-1.0</td>\n",
       "      <td>4.0</td>\n",
       "      <td>100.005000</td>\n",
       "      <td>False</td>\n",
       "      <td>0.000000</td>\n",
       "      <td>25.001250</td>\n",
       "      <td>0</td>\n",
       "      <td>5</td>\n",
       "      <td>5</td>\n",
       "      <td>0</td>\n",
       "      <td>538</td>\n",
       "      <td>4138</td>\n",
       "    </tr>\n",
       "    <tr>\n",
       "      <th>193325</th>\n",
       "      <td>02:53</td>\n",
       "      <td>2</td>\n",
       "      <td>-73.0</td>\n",
       "      <td>18.0</td>\n",
       "      <td>left</td>\n",
       "      <td>24.083189</td>\n",
       "      <td>0.844154</td>\n",
       "      <td>0</td>\n",
       "      <td>Snap Shot</td>\n",
       "      <td>Takeaway</td>\n",
       "      <td>52.0</td>\n",
       "      <td>18.0</td>\n",
       "      <td>5.0</td>\n",
       "      <td>125.000000</td>\n",
       "      <td>False</td>\n",
       "      <td>0.000000</td>\n",
       "      <td>25.000000</td>\n",
       "      <td>0</td>\n",
       "      <td>5</td>\n",
       "      <td>5</td>\n",
       "      <td>0</td>\n",
       "      <td>173</td>\n",
       "      <td>2573</td>\n",
       "    </tr>\n",
       "  </tbody>\n",
       "</table>\n",
       "</div>"
      ],
      "text/plain": [
       "       periodTime  period  x-coordinate  y-coordinate attackingSide  \\\n",
       "208941      06:29       3         -62.0          -5.0          left   \n",
       "226981      14:07       1          79.0           3.0         right   \n",
       "45997       17:06       2         -50.0          -1.0          left   \n",
       "14458       08:58       3          81.0          -2.0         right   \n",
       "193325      02:53       2         -73.0          18.0          left   \n",
       "\n",
       "        shot_distance     angle  isEmptyNet    shotType last_event_type  \\\n",
       "208941      27.459060 -0.183111           0  Wrist Shot     Missed Shot   \n",
       "226981      10.440307  0.291457           0  Wrist Shot         Faceoff   \n",
       "45997       39.012818 -0.025635           0   Snap Shot        Giveaway   \n",
       "14458        8.246211 -0.244979           0  Wrist Shot        Giveaway   \n",
       "193325      24.083189  0.844154           0   Snap Shot        Takeaway   \n",
       "\n",
       "        coor_x_last_event  coor_y_last_event  time_last_event  \\\n",
       "208941               64.0               -5.0             14.0   \n",
       "226981                0.0                0.0             18.0   \n",
       "45997               -96.0                7.0              4.0   \n",
       "14458               -19.0               -1.0              4.0   \n",
       "193325               52.0               18.0              5.0   \n",
       "\n",
       "        distance_last_event  is_rebound  Change in shot angle      Speed  \\\n",
       "208941           126.000000        True             -1.104912   9.000000   \n",
       "226981            79.056942       False              0.000000   4.392052   \n",
       "45997             46.690470       False              0.000000  11.672618   \n",
       "14458            100.005000       False              0.000000  25.001250   \n",
       "193325           125.000000       False              0.000000  25.000000   \n",
       "\n",
       "        power_play_time  n_friend  n_oppose  isgoal  period_second  \\\n",
       "208941                0         5         5       1            389   \n",
       "226981               11         4         3       0            847   \n",
       "45997                 0         5         5       0           1026   \n",
       "14458                 0         5         5       0            538   \n",
       "193325                0         5         5       0            173   \n",
       "\n",
       "        game_second  \n",
       "208941         3989  \n",
       "226981         2047  \n",
       "45997          3426  \n",
       "14458          4138  \n",
       "193325         2573  "
      ]
     },
     "execution_count": 42,
     "metadata": {},
     "output_type": "execute_result"
    }
   ],
   "source": [
    "df_train, df_val = train_test_split(df_train, test_size=0.2)\n",
    "\n",
    "print(f\"Shape of df_train: {df_train.shape}\")\n",
    "print(f\"Shape of df_val: {df_val.shape}\")\n",
    "\n",
    "df_train.sample(5)"
   ]
  },
  {
   "cell_type": "markdown",
   "metadata": {},
   "source": [
    "# 1. Add more feature\n",
    "\n",
    "- In this section, we will add the new feature called `attacking_zone_shot`. This feature indicates whether the shot occurred in the attacking zone.\n",
    "- We choose to analyze this feature based on the observation that the shot in the attacking zone has high chance to become a goal.\n",
    "- **After analyzing**, we realize that 94.5% shot happend inside attacking zone, and 5% shot happened outside attacking zone."
   ]
  },
  {
   "cell_type": "code",
   "execution_count": 43,
   "metadata": {},
   "outputs": [],
   "source": [
    "def Is_Shot_In_Attacking_Zone(x_coordinate_shot, attacking_side):\n",
    "\n",
    "    if str(attacking_side).lower() == \"left\":\n",
    "        x_coordinate_net = -89\n",
    "        attacking_zone_range = -25\n",
    "        return x_coordinate_net <= x_coordinate_shot <= attacking_zone_range\n",
    "    elif str(attacking_side).lower() == \"right\":\n",
    "        x_coordinate_net = 89\n",
    "        attacking_zone_range = 25\n",
    "        return  attacking_zone_range <= x_coordinate_shot <= x_coordinate_net\n",
    "    else:\n",
    "        return None"
   ]
  },
  {
   "cell_type": "code",
   "execution_count": 44,
   "metadata": {},
   "outputs": [],
   "source": [
    "df_train['attacking_zone_shot'] = df_train.apply(lambda x: Is_Shot_In_Attacking_Zone(x['x-coordinate'], x['attackingSide']), axis=1)\n",
    "df_val['attacking_zone_shot'] = df_val.apply(lambda x: Is_Shot_In_Attacking_Zone(x['x-coordinate'], x['attackingSide']), axis=1)"
   ]
  },
  {
   "cell_type": "markdown",
   "metadata": {},
   "source": [
    "# 2. Feature selection\n",
    "\n",
    "- In this section, I will use **correlation** and **mutual information** to perform the feature selection."
   ]
  },
  {
   "cell_type": "markdown",
   "metadata": {},
   "source": [
    "### a. Correlation\n",
    "\n",
    "- In this section, we will check the correlation value between pairs of features. If the correlation between two features are larger than specific `threshold`, we will remove it."
   ]
  },
  {
   "cell_type": "code",
   "execution_count": 45,
   "metadata": {},
   "outputs": [
    {
     "data": {
      "text/html": [
       "<div>\n",
       "<style scoped>\n",
       "    .dataframe tbody tr th:only-of-type {\n",
       "        vertical-align: middle;\n",
       "    }\n",
       "\n",
       "    .dataframe tbody tr th {\n",
       "        vertical-align: top;\n",
       "    }\n",
       "\n",
       "    .dataframe thead th {\n",
       "        text-align: right;\n",
       "    }\n",
       "</style>\n",
       "<table border=\"1\" class=\"dataframe\">\n",
       "  <thead>\n",
       "    <tr style=\"text-align: right;\">\n",
       "      <th></th>\n",
       "      <th>periodTime</th>\n",
       "      <th>period</th>\n",
       "      <th>x-coordinate</th>\n",
       "      <th>y-coordinate</th>\n",
       "      <th>attackingSide</th>\n",
       "      <th>shot_distance</th>\n",
       "      <th>angle</th>\n",
       "      <th>isEmptyNet</th>\n",
       "      <th>shotType</th>\n",
       "      <th>last_event_type</th>\n",
       "      <th>coor_x_last_event</th>\n",
       "      <th>coor_y_last_event</th>\n",
       "      <th>time_last_event</th>\n",
       "      <th>distance_last_event</th>\n",
       "      <th>is_rebound</th>\n",
       "      <th>Change in shot angle</th>\n",
       "      <th>Speed</th>\n",
       "      <th>power_play_time</th>\n",
       "      <th>n_friend</th>\n",
       "      <th>n_oppose</th>\n",
       "      <th>isgoal</th>\n",
       "      <th>period_second</th>\n",
       "      <th>game_second</th>\n",
       "      <th>attacking_zone_shot</th>\n",
       "    </tr>\n",
       "  </thead>\n",
       "  <tbody>\n",
       "    <tr>\n",
       "      <th>133468</th>\n",
       "      <td>04:03</td>\n",
       "      <td>2</td>\n",
       "      <td>22.0</td>\n",
       "      <td>-36.0</td>\n",
       "      <td>right</td>\n",
       "      <td>76.059187</td>\n",
       "      <td>-0.493051</td>\n",
       "      <td>0</td>\n",
       "      <td>Wrist Shot</td>\n",
       "      <td>Giveaway</td>\n",
       "      <td>99.0</td>\n",
       "      <td>2.0</td>\n",
       "      <td>86.0</td>\n",
       "      <td>85.866175</td>\n",
       "      <td>False</td>\n",
       "      <td>0.000000</td>\n",
       "      <td>0.998444</td>\n",
       "      <td>0</td>\n",
       "      <td>5</td>\n",
       "      <td>5</td>\n",
       "      <td>0</td>\n",
       "      <td>243</td>\n",
       "      <td>2643</td>\n",
       "      <td>False</td>\n",
       "    </tr>\n",
       "    <tr>\n",
       "      <th>275536</th>\n",
       "      <td>08:04</td>\n",
       "      <td>1</td>\n",
       "      <td>-51.0</td>\n",
       "      <td>-14.0</td>\n",
       "      <td>left</td>\n",
       "      <td>40.496913</td>\n",
       "      <td>-0.352990</td>\n",
       "      <td>0</td>\n",
       "      <td>Wrist Shot</td>\n",
       "      <td>Giveaway</td>\n",
       "      <td>-49.0</td>\n",
       "      <td>-6.0</td>\n",
       "      <td>2.0</td>\n",
       "      <td>8.246211</td>\n",
       "      <td>False</td>\n",
       "      <td>0.000000</td>\n",
       "      <td>4.123106</td>\n",
       "      <td>0</td>\n",
       "      <td>5</td>\n",
       "      <td>5</td>\n",
       "      <td>0</td>\n",
       "      <td>484</td>\n",
       "      <td>1684</td>\n",
       "      <td>True</td>\n",
       "    </tr>\n",
       "    <tr>\n",
       "      <th>169334</th>\n",
       "      <td>00:40</td>\n",
       "      <td>1</td>\n",
       "      <td>-43.0</td>\n",
       "      <td>-13.0</td>\n",
       "      <td>left</td>\n",
       "      <td>47.801674</td>\n",
       "      <td>-0.275426</td>\n",
       "      <td>0</td>\n",
       "      <td>Wrist Shot</td>\n",
       "      <td>Takeaway</td>\n",
       "      <td>31.0</td>\n",
       "      <td>18.0</td>\n",
       "      <td>22.0</td>\n",
       "      <td>80.230917</td>\n",
       "      <td>True</td>\n",
       "      <td>-0.835786</td>\n",
       "      <td>3.646860</td>\n",
       "      <td>0</td>\n",
       "      <td>5</td>\n",
       "      <td>5</td>\n",
       "      <td>0</td>\n",
       "      <td>40</td>\n",
       "      <td>1240</td>\n",
       "      <td>True</td>\n",
       "    </tr>\n",
       "    <tr>\n",
       "      <th>82911</th>\n",
       "      <td>06:14</td>\n",
       "      <td>1</td>\n",
       "      <td>54.0</td>\n",
       "      <td>2.0</td>\n",
       "      <td>right</td>\n",
       "      <td>35.057096</td>\n",
       "      <td>0.057081</td>\n",
       "      <td>0</td>\n",
       "      <td>Snap Shot</td>\n",
       "      <td>Hit</td>\n",
       "      <td>98.0</td>\n",
       "      <td>5.0</td>\n",
       "      <td>4.0</td>\n",
       "      <td>44.102154</td>\n",
       "      <td>True</td>\n",
       "      <td>-0.016858</td>\n",
       "      <td>11.025539</td>\n",
       "      <td>0</td>\n",
       "      <td>5</td>\n",
       "      <td>5</td>\n",
       "      <td>0</td>\n",
       "      <td>374</td>\n",
       "      <td>1574</td>\n",
       "      <td>True</td>\n",
       "    </tr>\n",
       "    <tr>\n",
       "      <th>217427</th>\n",
       "      <td>06:54</td>\n",
       "      <td>2</td>\n",
       "      <td>71.0</td>\n",
       "      <td>3.0</td>\n",
       "      <td>right</td>\n",
       "      <td>18.248288</td>\n",
       "      <td>0.165149</td>\n",
       "      <td>0</td>\n",
       "      <td>Wrist Shot</td>\n",
       "      <td>Hit</td>\n",
       "      <td>-35.0</td>\n",
       "      <td>35.0</td>\n",
       "      <td>20.0</td>\n",
       "      <td>110.724884</td>\n",
       "      <td>True</td>\n",
       "      <td>-0.036168</td>\n",
       "      <td>5.536244</td>\n",
       "      <td>0</td>\n",
       "      <td>5</td>\n",
       "      <td>5</td>\n",
       "      <td>0</td>\n",
       "      <td>414</td>\n",
       "      <td>2814</td>\n",
       "      <td>True</td>\n",
       "    </tr>\n",
       "  </tbody>\n",
       "</table>\n",
       "</div>"
      ],
      "text/plain": [
       "       periodTime  period  x-coordinate  y-coordinate attackingSide  \\\n",
       "133468      04:03       2          22.0         -36.0         right   \n",
       "275536      08:04       1         -51.0         -14.0          left   \n",
       "169334      00:40       1         -43.0         -13.0          left   \n",
       "82911       06:14       1          54.0           2.0         right   \n",
       "217427      06:54       2          71.0           3.0         right   \n",
       "\n",
       "        shot_distance     angle  isEmptyNet    shotType last_event_type  \\\n",
       "133468      76.059187 -0.493051           0  Wrist Shot        Giveaway   \n",
       "275536      40.496913 -0.352990           0  Wrist Shot        Giveaway   \n",
       "169334      47.801674 -0.275426           0  Wrist Shot        Takeaway   \n",
       "82911       35.057096  0.057081           0   Snap Shot             Hit   \n",
       "217427      18.248288  0.165149           0  Wrist Shot             Hit   \n",
       "\n",
       "        coor_x_last_event  coor_y_last_event  time_last_event  \\\n",
       "133468               99.0                2.0             86.0   \n",
       "275536              -49.0               -6.0              2.0   \n",
       "169334               31.0               18.0             22.0   \n",
       "82911                98.0                5.0              4.0   \n",
       "217427              -35.0               35.0             20.0   \n",
       "\n",
       "        distance_last_event  is_rebound  Change in shot angle      Speed  \\\n",
       "133468            85.866175       False              0.000000   0.998444   \n",
       "275536             8.246211       False              0.000000   4.123106   \n",
       "169334            80.230917        True             -0.835786   3.646860   \n",
       "82911             44.102154        True             -0.016858  11.025539   \n",
       "217427           110.724884        True             -0.036168   5.536244   \n",
       "\n",
       "        power_play_time  n_friend  n_oppose  isgoal  period_second  \\\n",
       "133468                0         5         5       0            243   \n",
       "275536                0         5         5       0            484   \n",
       "169334                0         5         5       0             40   \n",
       "82911                 0         5         5       0            374   \n",
       "217427                0         5         5       0            414   \n",
       "\n",
       "        game_second  attacking_zone_shot  \n",
       "133468         2643                False  \n",
       "275536         1684                 True  \n",
       "169334         1240                 True  \n",
       "82911          1574                 True  \n",
       "217427         2814                 True  "
      ]
     },
     "execution_count": 45,
     "metadata": {},
     "output_type": "execute_result"
    }
   ],
   "source": [
    "df_train.head()"
   ]
  },
  {
   "cell_type": "code",
   "execution_count": 48,
   "metadata": {},
   "outputs": [],
   "source": [
    "list_features = ['game_second', 'period', 'x-coordinate', 'y-coordinate', 'shot_distance', 'angle', 'isEmptyNet', 'last_event_type',\\\n",
    "                'coor_x_last_event', 'coor_y_last_event', 'time_last_event', 'distance_last_event', 'is_rebound',\\\n",
    "                 'Change in shot angle', 'Speed', 'power_play_time', 'n_friend', 'n_oppose', 'attacking_zone_shot']\n",
    "\n",
    "labels = 'isgoal'"
   ]
  },
  {
   "cell_type": "code",
   "execution_count": 50,
   "metadata": {},
   "outputs": [],
   "source": [
    "X_train = df_train[list_features]\n",
    "y_train = df_train[labels]\n",
    "\n",
    "X_val = df_val[list_features]\n",
    "y_val = df_val[labels]"
   ]
  },
  {
   "cell_type": "code",
   "execution_count": 51,
   "metadata": {},
   "outputs": [],
   "source": [
    "def List_High_Corr_Features(df, threshold=0.9):\n",
    "\n",
    "    # Find numerical features\n",
    "    numerical_features = df.select_dtypes(include=['int', 'float']).columns\n",
    "    df = df[numerical_features]\n",
    "\n",
    "    corr_matrix = df.corr().abs()\n",
    "\n",
    "    upper = corr_matrix.where(np.triu(np.ones(corr_matrix.shape), k=1).astype(bool))\n",
    "\n",
    "    drop_features = [column for column in upper.columns if any(upper[column] > threshold)]\n",
    "    # X = X.drop(drop_features, axis=1)\n",
    "\n",
    "    return drop_features"
   ]
  },
  {
   "cell_type": "code",
   "execution_count": 52,
   "metadata": {},
   "outputs": [
    {
     "name": "stdout",
     "output_type": "stream",
     "text": [
      "[INFO] Drop high correlation: ['period']\n"
     ]
    }
   ],
   "source": [
    "# Remove high correlation features\n",
    "threshold = 0.9\n",
    "drop_features = List_High_Corr_Features(X_train, threshold=threshold)\n",
    "print(f\"[INFO] Drop high correlation: {drop_features}\")\n",
    "\n",
    "X_train = X_train.drop(drop_features, axis=1)\n",
    "X_val = X_val.drop(drop_features, axis=1)"
   ]
  },
  {
   "cell_type": "markdown",
   "metadata": {},
   "source": [
    "### b. Mutual information\n",
    "\n",
    "- On this section, we will use mutual information to identify the relationship between features and the target variable. \n",
    "- From practical visualization, we will choose features, whose mutual information scores are above 0.01."
   ]
  },
  {
   "cell_type": "code",
   "execution_count": 53,
   "metadata": {},
   "outputs": [],
   "source": [
    "numerical_features = X_train.select_dtypes(include=['int', 'float']).columns\n",
    "categorical_features = [i for i in list(X_train.columns) if i not in numerical_features]\n",
    "\n",
    "X_train_numerical = X_train[numerical_features]\n",
    "X_train_categorical = X_train[categorical_features]\n",
    "\n",
    "X_val_numerical = X_val[numerical_features]\n",
    "X_val_categorical = X_val[categorical_features]"
   ]
  },
  {
   "cell_type": "code",
   "execution_count": 54,
   "metadata": {},
   "outputs": [],
   "source": [
    "mi_selector = SelectKBest(mutual_info_classif, k='all')\n",
    "mi_selector.fit(X_train_numerical, y_train)\n",
    "\n",
    "# Get feature scores\n",
    "feature_scores = mi_selector.scores_"
   ]
  },
  {
   "cell_type": "code",
   "execution_count": 55,
   "metadata": {},
   "outputs": [
    {
     "data": {
      "image/png": "[encoded data removed]",
      "text/plain": [
       "<Figure size 640x480 with 1 Axes>"
      ]
     },
     "metadata": {},
     "output_type": "display_data"
    }
   ],
   "source": [
    "# Create a bar chart\n",
    "plt.bar(X_train_numerical.columns, feature_scores)\n",
    "plt.xticks(rotation=90)\n",
    "plt.xlabel('Features')\n",
    "plt.ylabel('Mutual Information Score')\n",
    "plt.title('Mutual Information Scores between Features and Target Variable')\n",
    "plt.savefig(os.path.join('images', \"best_shot_model\", \"mutual_information.jpg\"))\n",
    "plt.show()"
   ]
  },
  {
   "cell_type": "markdown",
   "metadata": {},
   "source": [
    "- According to the experiment, we will set the threshold below **0.01**"
   ]
  },
  {
   "cell_type": "code",
   "execution_count": 56,
   "metadata": {},
   "outputs": [
    {
     "name": "stdout",
     "output_type": "stream",
     "text": [
      "Selected features (mutual information): Index(['x-coordinate', 'y-coordinate', 'shot_distance', 'angle', 'isEmptyNet',\n",
      "       'n_friend', 'n_oppose'],\n",
      "      dtype='object')\n"
     ]
    }
   ],
   "source": [
    "threshold_mi = 0.01\n",
    "selected_features = X_train_numerical.columns[mi_selector.scores_ > threshold_mi]\n",
    "print(f\"Selected features (mutual information): {selected_features}\")\n",
    "\n",
    "X_train_numerical = X_train_numerical[selected_features]\n",
    "X_val_numerical = X_val_numerical[selected_features]"
   ]
  },
  {
   "cell_type": "markdown",
   "metadata": {},
   "source": [
    "### c. Convert categorical feature into one-hot vector"
   ]
  },
  {
   "cell_type": "code",
   "execution_count": 57,
   "metadata": {},
   "outputs": [],
   "source": [
    "encoder = OneHotEncoder(handle_unknown='ignore')\n",
    "encoder.fit(X_train_categorical)\n",
    "\n",
    "X_train_categorical = encoder.transform(X_train_categorical).toarray()\n",
    "X_val_categorical = encoder.transform(X_val_categorical).toarray()"
   ]
  },
  {
   "cell_type": "markdown",
   "metadata": {},
   "source": [
    "### d. Convert numerical features"
   ]
  },
  {
   "cell_type": "code",
   "execution_count": 58,
   "metadata": {},
   "outputs": [],
   "source": [
    "scaler = StandardScaler()\n",
    "scaler.fit(X_train_numerical)\n",
    "\n",
    "X_train_numerical = scaler.transform(X_train_numerical)\n",
    "X_val_numerical = scaler.transform(X_val_numerical)"
   ]
  },
  {
   "cell_type": "code",
   "execution_count": 59,
   "metadata": {},
   "outputs": [
    {
     "name": "stdout",
     "output_type": "stream",
     "text": [
      "Shape of X train: (236689, 26)\n",
      "Shape of X val: (59173, 26)\n"
     ]
    }
   ],
   "source": [
    "X_train = np.concatenate([X_train_numerical, X_train_categorical], axis=1)\n",
    "X_val = np.concatenate([X_val_numerical, X_val_categorical], axis=1)\n",
    "\n",
    "print(f'Shape of X train: {X_train.shape}')\n",
    "print(f'Shape of X val: {X_val.shape}')"
   ]
  },
  {
   "cell_type": "markdown",
   "metadata": {},
   "source": [
    "### e. Balance dataset"
   ]
  },
  {
   "cell_type": "code",
   "execution_count": 60,
   "metadata": {},
   "outputs": [],
   "source": [
    "over_sampler = RandomOverSampler(sampling_strategy=0.3) \n",
    "\n",
    "X_train_resampled, y_train_resampled = over_sampler.fit_resample(X_train, y_train)"
   ]
  },
  {
   "cell_type": "code",
   "execution_count": 61,
   "metadata": {},
   "outputs": [
    {
     "name": "stdout",
     "output_type": "stream",
     "text": [
      "Counter({0: 214632, 1: 22057})\n",
      "Counter({0: 214632, 1: 64389})\n"
     ]
    }
   ],
   "source": [
    "print(Counter(y_train))\n",
    "print(Counter(y_train_resampled))"
   ]
  },
  {
   "cell_type": "markdown",
   "metadata": {},
   "source": [
    "# 3. Building machine learning model"
   ]
  },
  {
   "cell_type": "markdown",
   "metadata": {},
   "source": [
    "### a. Decision Tree"
   ]
  },
  {
   "cell_type": "code",
   "execution_count": 62,
   "metadata": {},
   "outputs": [
    {
     "name": "stdout",
     "output_type": "stream",
     "text": [
      "Best Parameters: {'criterion': 'entropy', 'max_depth': 10, 'min_samples_leaf': 5, 'min_samples_split': 4}\n",
      "Best score: 0.7562763834711991\n"
     ]
    }
   ],
   "source": [
    "param_grid_tree = {\n",
    "    'criterion': ['gini', 'entropy'],\n",
    "    'max_depth': [5, 10],\n",
    "    'min_samples_split': [2, 4],\n",
    "    'min_samples_leaf': [5, 10],\n",
    "}\n",
    "\n",
    "dt_classifier = DecisionTreeClassifier()\n",
    "\n",
    "grid_search = GridSearchCV(dt_classifier, param_grid_tree, cv=5, scoring='roc_auc')\n",
    "# grid_search.fit(X_train, y_train)\n",
    "grid_search.fit(X_train_resampled, y_train_resampled)\n",
    "\n",
    "best_params = grid_search.best_params_\n",
    "tree = grid_search.best_estimator_\n",
    "\n",
    "print(\"Best Parameters:\", best_params)\n",
    "print(f\"Best score: {grid_search.best_score_}\")"
   ]
  },
  {
   "cell_type": "code",
   "execution_count": 63,
   "metadata": {},
   "outputs": [
    {
     "name": "stdout",
     "output_type": "stream",
     "text": [
      "Accuracy validation set: 0.91\n",
      "Confusion Matrix:\n",
      "[[53357   438]\n",
      " [ 4970   408]]\n"
     ]
    }
   ],
   "source": [
    "y_val_pred = tree.predict(X_val)\n",
    "accuracy = accuracy_score(y_val, y_val_pred)\n",
    "conf_matrix = confusion_matrix(y_val, y_val_pred)\n",
    "\n",
    "print(f\"Accuracy validation set: {accuracy:.2f}\")\n",
    "print(\"Confusion Matrix:\")\n",
    "print(conf_matrix)    "
   ]
  },
  {
   "cell_type": "code",
   "execution_count": 76,
   "metadata": {},
   "outputs": [
    {
     "data": {
      "text/plain": [
       "['models/decision_tree.pkl']"
      ]
     },
     "execution_count": 76,
     "metadata": {},
     "output_type": "execute_result"
    }
   ],
   "source": [
    "path_output_tree_model = os.path.join(\"models\", \"decision_tree.pkl\")\n",
    "joblib.dump(tree, path_output_tree_model)"
   ]
  },
  {
   "cell_type": "markdown",
   "metadata": {},
   "source": [
    "### b. KNN"
   ]
  },
  {
   "cell_type": "code",
   "execution_count": 64,
   "metadata": {},
   "outputs": [
    {
     "name": "stdout",
     "output_type": "stream",
     "text": [
      "Best Parameters: {'n_neighbors': 3, 'weights': 'distance'}\n",
      "Best score: 0.8100806742527539\n"
     ]
    }
   ],
   "source": [
    "param_grid_knn = {\n",
    "    'n_neighbors': [2, 3],\n",
    "    'weights': ['uniform', 'distance']\n",
    "}\n",
    "\n",
    "knn_classifier = KNeighborsClassifier()\n",
    "\n",
    "grid_search = GridSearchCV(knn_classifier, param_grid_knn, cv=5, scoring='roc_auc', n_jobs=2)\n",
    "# grid_search.fit(X_train, y_train)\n",
    "grid_search.fit(X_train_resampled, y_train_resampled)\n",
    "\n",
    "knn_best = grid_search.best_estimator_\n",
    "\n",
    "print(\"Best Parameters:\", grid_search.best_params_)\n",
    "print(f\"Best score: {grid_search.best_score_}\")"
   ]
  },
  {
   "cell_type": "code",
   "execution_count": 65,
   "metadata": {},
   "outputs": [
    {
     "name": "stdout",
     "output_type": "stream",
     "text": [
      "Accuracy validation set: 0.86\n",
      "Confusion Matrix:\n",
      "[[49983  3812]\n",
      " [ 4487   891]]\n"
     ]
    }
   ],
   "source": [
    "y_val_pred = knn_best.predict(X_val)\n",
    "accuracy = accuracy_score(y_val, y_val_pred)\n",
    "conf_matrix = confusion_matrix(y_val, y_val_pred)\n",
    "\n",
    "print(f\"Accuracy validation set: {accuracy:.2f}\")\n",
    "print(\"Confusion Matrix:\")\n",
    "print(conf_matrix)"
   ]
  },
  {
   "cell_type": "code",
   "execution_count": 77,
   "metadata": {},
   "outputs": [
    {
     "data": {
      "text/plain": [
       "['models/knn.pkl']"
      ]
     },
     "execution_count": 77,
     "metadata": {},
     "output_type": "execute_result"
    }
   ],
   "source": [
    "path_output_knn_model = os.path.join(\"models\", \"knn.pkl\")\n",
    "joblib.dump(knn_best, path_output_knn_model)"
   ]
  },
  {
   "cell_type": "markdown",
   "metadata": {},
   "source": [
    "# 5. Visualization"
   ]
  },
  {
   "cell_type": "code",
   "execution_count": 66,
   "metadata": {},
   "outputs": [],
   "source": [
    "y_val_pred_proba_tree = tree.predict_proba(X_val)[:, 1]\n",
    "y_val_pred_proba_knn = knn_best.predict_proba(X_val)[:, 1]\n",
    "\n",
    "models = ['decision tree', 'knn']\n",
    "probs = [y_val_pred_proba_tree, y_val_pred_proba_knn]"
   ]
  },
  {
   "cell_type": "code",
   "execution_count": 67,
   "metadata": {},
   "outputs": [
    {
     "data": {
      "image/png": "[encoded data removed]",
      "text/plain": [
       "<Figure size 640x480 with 1 Axes>"
      ]
     },
     "metadata": {},
     "output_type": "display_data"
    }
   ],
   "source": [
    "fig = plt.figure()\n",
    "\n",
    "for i in range(len(models)):\n",
    "    fpr, tpr, _ = roc_curve(y_val, probs[i])\n",
    "    roc_auc = auc(fpr, tpr)\n",
    "    plt.plot(fpr, tpr, label=f\"{models[i]} (area = {round(roc_auc, 2)})\")\n",
    "\n",
    "plt.xlabel(\"False Positive Rate\")\n",
    "plt.ylabel(\"True Positive Rate\")\n",
    "plt.title(\"ROC Curve\")\n",
    "plt.legend(loc=\"lower right\")\n",
    "plt.show()\n",
    "\n",
    "path_output_image = os.path.join(\"images\", \"best_shot_model\", \"roc.jpg\")\n",
    "fig.savefig(path_output_image)\n",
    "# experiment.log_figure(figure=fig)"
   ]
  },
  {
   "cell_type": "code",
   "execution_count": 68,
   "metadata": {},
   "outputs": [
    {
     "data": {
      "image/png": "[encoded data removed]",
      "text/plain": [
       "<Figure size 1500x500 with 2 Axes>"
      ]
     },
     "metadata": {},
     "output_type": "display_data"
    }
   ],
   "source": [
    "bins = np.linspace(0, 95, num=20).astype(int)\n",
    "fig, axs = plt.subplots(1, 2, figsize=(15, 5))\n",
    "\n",
    "list_plot_points = list()\n",
    "for i in range(len(models)):\n",
    "    perentiles = (np.argsort(np.argsort(probs[i])) + 1) * 100.0 / (len(probs[i]))\n",
    "    perentile_bins = (np.digitize(perentiles, bins) - 1) * 5\n",
    "    plot_points = pd.DataFrame(columns=[\"bin\", \"goal_rate\", \"goal_cum\"])\n",
    "    goal_cum = 0\n",
    "    for j, bin in enumerate(np.flip(bins)):\n",
    "        n_goal = np.sum(y_val[perentile_bins == bin])\n",
    "        n_shot = np.sum(perentile_bins == bin)\n",
    "        goal_rate = n_goal / n_shot\n",
    "        goal_cum += n_goal / np.sum(y_val)\n",
    "        plot_points.loc[j] = [bin, goal_rate, goal_cum]\n",
    "    list_plot_points.append(plot_points)\n",
    "\n",
    "    sns.lineplot(\n",
    "        data=plot_points,\n",
    "        x=\"bin\",\n",
    "        y=\"goal_rate\",\n",
    "        legend=False,\n",
    "        label=\"%s\" % (models[i]),\n",
    "        ax=axs[0],\n",
    "    )\n",
    "\n",
    "    plot_points.loc[j + 1] = [100, 0, 0]\n",
    "    sns.lineplot(\n",
    "        data=plot_points,\n",
    "        x=\"bin\",\n",
    "        y=\"goal_cum\",\n",
    "        legend=False,\n",
    "        label=\"%s\" % (models[i]),\n",
    "        ax=axs[1],\n",
    "    )\n",
    "\n",
    "\n",
    "axs[0].set_title(f\"Goal Rate\")\n",
    "axs[0].set_xlabel(\"Shot probability model percentile\")\n",
    "axs[0].set_ylabel(\"Goals / (Shots + Goals)\")\n",
    "axs[0].set_xlim(left=101, right=-1)\n",
    "axs[0].set_ylim(bottom=0, top=1)\n",
    "vals = axs[0].get_yticks()\n",
    "axs[0].set_yticks(vals)\n",
    "axs[0].set_yticklabels([\"{:,.0%}\".format(x) for x in vals])\n",
    "axs[0].legend()\n",
    "\n",
    "axs[1].set_title(f\"Cumulative % of Goal\")\n",
    "axs[1].set_xlabel(\"Shot probability model percentile\")\n",
    "axs[1].set_ylabel(\"Proportion\")\n",
    "axs[1].set_xlim(left=105, right=-5)\n",
    "axs[1].set_ylim(bottom=0, top=1)\n",
    "vals = axs[1].get_yticks()\n",
    "axs[1].set_yticks(vals)\n",
    "axs[1].set_yticklabels([\"{:,.0%}\".format(x) for x in vals])\n",
    "axs[1].legend()\n",
    "\n",
    "plt.show()\n",
    "\n",
    "path_output_image = os.path.join(\"images\", \"best_shot_model\", \"goal_rate_cum.jpg\")\n",
    "fig.savefig(path_output_image)\n",
    "# experiment.log_figure(figure=fig)"
   ]
  },
  {
   "cell_type": "code",
   "execution_count": 69,
   "metadata": {},
   "outputs": [
    {
     "data": {
      "image/png": "[encoded data removed]",
      "text/plain": [
       "<Figure size 640x480 with 1 Axes>"
      ]
     },
     "metadata": {},
     "output_type": "display_data"
    }
   ],
   "source": [
    "fig = plt.figure()\n",
    "plt.title(f\"Calibration Curve\")\n",
    "plt.plot([0, 1], [0, 1], \"k:\", label=\"Perfectly calibrated\")\n",
    "for i in range(len(models)):\n",
    "    prob_true, prob_pred = calibration_curve(y_val, probs[i], n_bins=20)\n",
    "    plt.plot(prob_pred, prob_true, \"s-\", label=\"%s\" % (models[i]))\n",
    "\n",
    "plt.xlabel(\"P(Pred)\")\n",
    "plt.ylabel(\"P(Goal|Pred)\")\n",
    "plt.legend()\n",
    "\n",
    "plt.xticks(np.arange(0, 1.2, 0.2))\n",
    "plt.yticks(np.arange(0, 1.2, 0.2))\n",
    "plt.show()\n",
    "\n",
    "path_output_image = os.path.join(\"images\", \"best_shot_model\", \"calibration.jpg\")\n",
    "fig.savefig(path_output_image)\n",
    "# experiment.log_figure(figure=fig)"
   ]
  },
  {
   "cell_type": "markdown",
   "metadata": {},
   "source": [
    "# 6. Push trained model to comet"
   ]
  },
  {
   "cell_type": "markdown",
   "metadata": {},
   "source": [
    "### a. Decision tree"
   ]
  },
  {
   "cell_type": "code",
   "execution_count": 91,
   "metadata": {},
   "outputs": [],
   "source": [
    "from comet_ml import Experiment"
   ]
  },
  {
   "cell_type": "code",
   "execution_count": 92,
   "metadata": {},
   "outputs": [
    {
     "name": "stdout",
     "output_type": "stream",
     "text": [
      "accuracy: 0.9086069660149054\n",
      "roc: 0.7392906717791614\n"
     ]
    }
   ],
   "source": [
    "y_val_pred = tree.predict(X_val)\n",
    "accuracy = accuracy_score(y_val, y_val_pred)\n",
    "fpr, tpr, _ = roc_curve(y_val, y_val_pred_proba_tree)\n",
    "roc_auc = auc(fpr, tpr)\n",
    "\n",
    "print(f\"accuracy: {accuracy}\")\n",
    "print(f\"roc: {roc_auc}\")"
   ]
  },
  {
   "cell_type": "code",
   "execution_count": 93,
   "metadata": {},
   "outputs": [
    {
     "name": "stderr",
     "output_type": "stream",
     "text": [
      "\u001b[1;38;5;214mCOMET WARNING:\u001b[0m To get all data logged automatically, import comet_ml before the following modules: sklearn.\n",
      "\u001b[1;38;5;214mCOMET WARNING:\u001b[0m As you are running in a Jupyter environment, you will need to call `experiment.end()` when finished to ensure all metrics and code are logged before exiting.\n",
      "\u001b[1;38;5;39mCOMET INFO:\u001b[0m Experiment is live on comet.com https://www.comet.com/ift6758-b09-project/ift6758-project-milestone2/ee5045d8c9bf416b85e3e0196d37239a\n",
      "\n"
     ]
    }
   ],
   "source": [
    "workspace_name = r\"ift6758-b09-project\"\n",
    "project_name = r\"ift6758-project-milestone2\"\n",
    "\n",
    "experiment = Experiment(api_key=os.environ.get('COMET_API_KEY'), project_name=project_name, workspace=workspace_name)"
   ]
  },
  {
   "cell_type": "code",
   "execution_count": 95,
   "metadata": {},
   "outputs": [],
   "source": [
    "experiment.log_model(\"decision_tree\", path_output_tree_model)\n",
    "experiment.log_metrics({\"accuracy\": accuracy, \"roc\": roc_auc})"
   ]
  },
  {
   "cell_type": "markdown",
   "metadata": {},
   "source": [
    "### b. KNN"
   ]
  },
  {
   "cell_type": "code",
   "execution_count": 96,
   "metadata": {},
   "outputs": [
    {
     "name": "stdout",
     "output_type": "stream",
     "text": [
      "accuracy: 0.8597502239196931\n",
      "roc: 0.5905067275527858\n"
     ]
    }
   ],
   "source": [
    "y_val_pred = knn_best.predict(X_val)\n",
    "accuracy = accuracy_score(y_val, y_val_pred)\n",
    "fpr, tpr, _ = roc_curve(y_val, y_val_pred_proba_knn)\n",
    "roc_auc = auc(fpr, tpr)\n",
    "\n",
    "print(f\"accuracy: {accuracy}\")\n",
    "print(f\"roc: {roc_auc}\")"
   ]
  },
  {
   "cell_type": "code",
   "execution_count": 97,
   "metadata": {},
   "outputs": [],
   "source": [
    "experiment.log_model(\"knn\", path_output_knn_model)\n",
    "experiment.log_metrics({\"accuracy\": accuracy, \"roc\": roc_auc})"
   ]
  },
  {
   "cell_type": "code",
   "execution_count": 98,
   "metadata": {},
   "outputs": [
    {
     "name": "stderr",
     "output_type": "stream",
     "text": [
      "\u001b[1;38;5;39mCOMET INFO:\u001b[0m ---------------------------------------------------------------------------------------\n",
      "\u001b[1;38;5;39mCOMET INFO:\u001b[0m Comet.ml Experiment Summary\n",
      "\u001b[1;38;5;39mCOMET INFO:\u001b[0m ---------------------------------------------------------------------------------------\n",
      "\u001b[1;38;5;39mCOMET INFO:\u001b[0m   Data:\n",
      "\u001b[1;38;5;39mCOMET INFO:\u001b[0m     display_summary_level : 1\n",
      "\u001b[1;38;5;39mCOMET INFO:\u001b[0m     url                   : https://www.comet.com/ift6758-b09-project/ift6758-project-milestone2/ee5045d8c9bf416b85e3e0196d37239a\n",
      "\u001b[1;38;5;39mCOMET INFO:\u001b[0m   Metrics [count] (min, max):\n",
      "\u001b[1;38;5;39mCOMET INFO:\u001b[0m     accuracy [2] : (0.8597502239196931, 0.9086069660149054)\n",
      "\u001b[1;38;5;39mCOMET INFO:\u001b[0m     roc [2]      : (0.5905067275527858, 0.7392906717791614)\n",
      "\u001b[1;38;5;39mCOMET INFO:\u001b[0m   Uploads:\n",
      "\u001b[1;38;5;39mCOMET INFO:\u001b[0m     conda-environment-definition : 1\n",
      "\u001b[1;38;5;39mCOMET INFO:\u001b[0m     conda-info                   : 1\n",
      "\u001b[1;38;5;39mCOMET INFO:\u001b[0m     conda-specification          : 1\n",
      "\u001b[1;38;5;39mCOMET INFO:\u001b[0m     environment details          : 1\n",
      "\u001b[1;38;5;39mCOMET INFO:\u001b[0m     filename                     : 1\n",
      "\u001b[1;38;5;39mCOMET INFO:\u001b[0m     git metadata                 : 1\n",
      "\u001b[1;38;5;39mCOMET INFO:\u001b[0m     git-patch (uncompressed)     : 1 (430.15 KB)\n",
      "\u001b[1;38;5;39mCOMET INFO:\u001b[0m     installed packages           : 1\n",
      "\u001b[1;38;5;39mCOMET INFO:\u001b[0m     model-element                : 2 (57.53 MB)\n",
      "\u001b[1;38;5;39mCOMET INFO:\u001b[0m     notebook                     : 1\n",
      "\u001b[1;38;5;39mCOMET INFO:\u001b[0m     os packages                  : 1\n",
      "\u001b[1;38;5;39mCOMET INFO:\u001b[0m     source_code                  : 1\n",
      "\u001b[1;38;5;39mCOMET INFO:\u001b[0m \n",
      "\u001b[1;38;5;214mCOMET WARNING:\u001b[0m To get all data logged automatically, import comet_ml before the following modules: sklearn.\n",
      "\u001b[1;38;5;39mCOMET INFO:\u001b[0m Please wait for assets to finish uploading (timeout is 10800 seconds)\n",
      "\u001b[1;38;5;39mCOMET INFO:\u001b[0m Still uploading 1 file(s), remaining 29.36 MB/57.48 MB\n"
     ]
    }
   ],
   "source": [
    "experiment.end()\n"
   ]
  },
  {
   "cell_type": "code",
   "execution_count": null,
   "metadata": {},
   "outputs": [],
   "source": []
  }
 ],
 "metadata": {
  "kernelspec": {
   "display_name": "ds_env",
   "language": "python",
   "name": "python3"
  },
  "language_info": {
   "codemirror_mode": {
    "name": "ipython",
    "version": 3
   },
   "file_extension": ".py",
   "mimetype": "text/x-python",
   "name": "python",
   "nbconvert_exporter": "python",
   "pygments_lexer": "ipython3",
   "version": "3.9.18"
  }
 },
 "nbformat": 4,
 "nbformat_minor": 2
}
