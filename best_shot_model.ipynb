{
 "cells": [
  {
   "cell_type": "code",
   "execution_count": 23,
   "metadata": {},
   "outputs": [],
   "source": [
    "import os\n",
    "import warnings\n",
    "warnings.filterwarnings(\"ignore\")\n",
    "import numpy as np\n",
    "import pandas as pd\n",
    "pd.set_option('display.max_rows', 500)\n",
    "pd.set_option('display.max_columns', 500)\n",
    "from PIL import Image\n",
    "import matplotlib.pyplot as plt\n",
    "from collections import Counter\n",
    "\n",
    "from sklearn.feature_selection import SelectKBest, mutual_info_classif\n",
    "from sklearn.preprocessing import OneHotEncoder, StandardScaler\n",
    "from sklearn.tree import DecisionTreeClassifier\n",
    "from sklearn.metrics import accuracy_score, confusion_matrix, classification_report\n",
    "from sklearn.model_selection import GridSearchCV"
   ]
  },
  {
   "cell_type": "markdown",
   "metadata": {},
   "source": [
    "# 0. Read dataset"
   ]
  },
  {
   "cell_type": "code",
   "execution_count": 2,
   "metadata": {},
   "outputs": [],
   "source": [
    "# path_csv = r\"Dataset/tidyData_fe3.csv\"\n",
    "path_train_csv = r\"Dataset/train.csv\"\n",
    "path_val_csv = r\"Dataset/val.csv\""
   ]
  },
  {
   "cell_type": "code",
   "execution_count": 3,
   "metadata": {},
   "outputs": [
    {
     "name": "stdout",
     "output_type": "stream",
     "text": [
      "Shape of df_train: (253475, 32)\n",
      "Shape of df_val: (73867, 32)\n"
     ]
    },
    {
     "data": {
      "text/html": [
       "<div>\n",
       "<style scoped>\n",
       "    .dataframe tbody tr th:only-of-type {\n",
       "        vertical-align: middle;\n",
       "    }\n",
       "\n",
       "    .dataframe tbody tr th {\n",
       "        vertical-align: top;\n",
       "    }\n",
       "\n",
       "    .dataframe thead th {\n",
       "        text-align: right;\n",
       "    }\n",
       "</style>\n",
       "<table border=\"1\" class=\"dataframe\">\n",
       "  <thead>\n",
       "    <tr style=\"text-align: right;\">\n",
       "      <th></th>\n",
       "      <th>Unnamed: 0</th>\n",
       "      <th>gamePk</th>\n",
       "      <th>homeTeam</th>\n",
       "      <th>period</th>\n",
       "      <th>periodType</th>\n",
       "      <th>periodTime</th>\n",
       "      <th>periodTimeRemaining</th>\n",
       "      <th>dateTime</th>\n",
       "      <th>teamId</th>\n",
       "      <th>teamName</th>\n",
       "      <th>attackingSide</th>\n",
       "      <th>teamTriCode</th>\n",
       "      <th>eventType</th>\n",
       "      <th>x-coordinate</th>\n",
       "      <th>y-coordinate</th>\n",
       "      <th>goalieName</th>\n",
       "      <th>shooterName</th>\n",
       "      <th>shotType</th>\n",
       "      <th>isEmptyNet</th>\n",
       "      <th>strength</th>\n",
       "      <th>shot_distance</th>\n",
       "      <th>angle</th>\n",
       "      <th>isgoal</th>\n",
       "      <th>last_event_type</th>\n",
       "      <th>coor_x_last_event</th>\n",
       "      <th>coor_y_last_event</th>\n",
       "      <th>time_last_event</th>\n",
       "      <th>distance_last_event</th>\n",
       "      <th>is_rebound</th>\n",
       "      <th>Change in shot angle</th>\n",
       "      <th>Speed</th>\n",
       "      <th>season</th>\n",
       "    </tr>\n",
       "  </thead>\n",
       "  <tbody>\n",
       "    <tr>\n",
       "      <th>102422</th>\n",
       "      <td>234023</td>\n",
       "      <td>2018020979</td>\n",
       "      <td>Toronto Maple Leafs</td>\n",
       "      <td>1</td>\n",
       "      <td>REGULAR</td>\n",
       "      <td>16:57</td>\n",
       "      <td>03:03</td>\n",
       "      <td>2019-02-28T00:42:56Z</td>\n",
       "      <td>10</td>\n",
       "      <td>Toronto Maple Leafs</td>\n",
       "      <td>left</td>\n",
       "      <td>TOR</td>\n",
       "      <td>Shot</td>\n",
       "      <td>-63.0</td>\n",
       "      <td>-14.0</td>\n",
       "      <td>Mikko Koskinen</td>\n",
       "      <td>Morgan Rielly</td>\n",
       "      <td>Wrist Shot</td>\n",
       "      <td>0</td>\n",
       "      <td>False</td>\n",
       "      <td>29.529646</td>\n",
       "      <td>-0.493941</td>\n",
       "      <td>0</td>\n",
       "      <td>Missed Shot</td>\n",
       "      <td>-73.0</td>\n",
       "      <td>15.0</td>\n",
       "      <td>6.0</td>\n",
       "      <td>30.675723</td>\n",
       "      <td>True</td>\n",
       "      <td>-0.367349</td>\n",
       "      <td>5.112621</td>\n",
       "      <td>2018</td>\n",
       "    </tr>\n",
       "    <tr>\n",
       "      <th>430</th>\n",
       "      <td>430</td>\n",
       "      <td>2017021142</td>\n",
       "      <td>Nashville Predators</td>\n",
       "      <td>3</td>\n",
       "      <td>REGULAR</td>\n",
       "      <td>19:54</td>\n",
       "      <td>00:06</td>\n",
       "      <td>2018-03-23T02:40:54Z</td>\n",
       "      <td>18</td>\n",
       "      <td>Nashville Predators</td>\n",
       "      <td>right</td>\n",
       "      <td>NSH</td>\n",
       "      <td>Shot</td>\n",
       "      <td>13.0</td>\n",
       "      <td>-6.0</td>\n",
       "      <td>Frederik Andersen</td>\n",
       "      <td>P.K. Subban</td>\n",
       "      <td>Slap Shot</td>\n",
       "      <td>0</td>\n",
       "      <td>False</td>\n",
       "      <td>76.236474</td>\n",
       "      <td>-0.078784</td>\n",
       "      <td>0</td>\n",
       "      <td>Giveaway</td>\n",
       "      <td>-21.0</td>\n",
       "      <td>-2.0</td>\n",
       "      <td>11.0</td>\n",
       "      <td>34.234486</td>\n",
       "      <td>True</td>\n",
       "      <td>-0.743558</td>\n",
       "      <td>3.112226</td>\n",
       "      <td>2017</td>\n",
       "    </tr>\n",
       "    <tr>\n",
       "      <th>216457</th>\n",
       "      <td>348058</td>\n",
       "      <td>2016020953</td>\n",
       "      <td>Buffalo Sabres</td>\n",
       "      <td>1</td>\n",
       "      <td>REGULAR</td>\n",
       "      <td>03:37</td>\n",
       "      <td>16:23</td>\n",
       "      <td>2017-03-05T00:14:39Z</td>\n",
       "      <td>14</td>\n",
       "      <td>Tampa Bay Lightning</td>\n",
       "      <td>left</td>\n",
       "      <td>TBL</td>\n",
       "      <td>Shot</td>\n",
       "      <td>-32.0</td>\n",
       "      <td>-36.0</td>\n",
       "      <td>Robin Lehner</td>\n",
       "      <td>Braydon Coburn</td>\n",
       "      <td>Snap Shot</td>\n",
       "      <td>0</td>\n",
       "      <td>False</td>\n",
       "      <td>67.416615</td>\n",
       "      <td>-0.563316</td>\n",
       "      <td>0</td>\n",
       "      <td>Blocked Shot</td>\n",
       "      <td>-74.0</td>\n",
       "      <td>-2.0</td>\n",
       "      <td>5.0</td>\n",
       "      <td>54.037024</td>\n",
       "      <td>True</td>\n",
       "      <td>0.031443</td>\n",
       "      <td>10.807405</td>\n",
       "      <td>2016</td>\n",
       "    </tr>\n",
       "    <tr>\n",
       "      <th>125842</th>\n",
       "      <td>257443</td>\n",
       "      <td>2018020271</td>\n",
       "      <td>Los Angeles Kings</td>\n",
       "      <td>3</td>\n",
       "      <td>REGULAR</td>\n",
       "      <td>06:56</td>\n",
       "      <td>13:04</td>\n",
       "      <td>2018-11-14T05:42:30Z</td>\n",
       "      <td>26</td>\n",
       "      <td>Los Angeles Kings</td>\n",
       "      <td>left</td>\n",
       "      <td>LAK</td>\n",
       "      <td>Shot</td>\n",
       "      <td>-82.0</td>\n",
       "      <td>-12.0</td>\n",
       "      <td>Frederik Andersen</td>\n",
       "      <td>Jake Muzzin</td>\n",
       "      <td>Wrist Shot</td>\n",
       "      <td>0</td>\n",
       "      <td>False</td>\n",
       "      <td>13.892444</td>\n",
       "      <td>-1.042722</td>\n",
       "      <td>0</td>\n",
       "      <td>Shot</td>\n",
       "      <td>-78.0</td>\n",
       "      <td>-4.0</td>\n",
       "      <td>3.0</td>\n",
       "      <td>8.944272</td>\n",
       "      <td>True</td>\n",
       "      <td>-1.018774</td>\n",
       "      <td>2.981424</td>\n",
       "      <td>2018</td>\n",
       "    </tr>\n",
       "    <tr>\n",
       "      <th>125580</th>\n",
       "      <td>257181</td>\n",
       "      <td>2018020334</td>\n",
       "      <td>New Jersey Devils</td>\n",
       "      <td>3</td>\n",
       "      <td>REGULAR</td>\n",
       "      <td>09:09</td>\n",
       "      <td>10:51</td>\n",
       "      <td>2018-11-23T23:19:46Z</td>\n",
       "      <td>1</td>\n",
       "      <td>New Jersey Devils</td>\n",
       "      <td>right</td>\n",
       "      <td>NJD</td>\n",
       "      <td>Shot</td>\n",
       "      <td>61.0</td>\n",
       "      <td>32.0</td>\n",
       "      <td>Thomas Greiss</td>\n",
       "      <td>Kyle Palmieri</td>\n",
       "      <td>Wrist Shot</td>\n",
       "      <td>0</td>\n",
       "      <td>False</td>\n",
       "      <td>42.520583</td>\n",
       "      <td>0.851966</td>\n",
       "      <td>0</td>\n",
       "      <td>Faceoff</td>\n",
       "      <td>69.0</td>\n",
       "      <td>-22.0</td>\n",
       "      <td>31.0</td>\n",
       "      <td>54.589376</td>\n",
       "      <td>True</td>\n",
       "      <td>0.557732</td>\n",
       "      <td>1.760948</td>\n",
       "      <td>2018</td>\n",
       "    </tr>\n",
       "  </tbody>\n",
       "</table>\n",
       "</div>"
      ],
      "text/plain": [
       "        Unnamed: 0      gamePk             homeTeam  period periodType  \\\n",
       "102422      234023  2018020979  Toronto Maple Leafs       1    REGULAR   \n",
       "430            430  2017021142  Nashville Predators       3    REGULAR   \n",
       "216457      348058  2016020953       Buffalo Sabres       1    REGULAR   \n",
       "125842      257443  2018020271    Los Angeles Kings       3    REGULAR   \n",
       "125580      257181  2018020334    New Jersey Devils       3    REGULAR   \n",
       "\n",
       "       periodTime periodTimeRemaining              dateTime  teamId  \\\n",
       "102422      16:57               03:03  2019-02-28T00:42:56Z      10   \n",
       "430         19:54               00:06  2018-03-23T02:40:54Z      18   \n",
       "216457      03:37               16:23  2017-03-05T00:14:39Z      14   \n",
       "125842      06:56               13:04  2018-11-14T05:42:30Z      26   \n",
       "125580      09:09               10:51  2018-11-23T23:19:46Z       1   \n",
       "\n",
       "                   teamName attackingSide teamTriCode eventType  x-coordinate  \\\n",
       "102422  Toronto Maple Leafs          left         TOR      Shot         -63.0   \n",
       "430     Nashville Predators         right         NSH      Shot          13.0   \n",
       "216457  Tampa Bay Lightning          left         TBL      Shot         -32.0   \n",
       "125842    Los Angeles Kings          left         LAK      Shot         -82.0   \n",
       "125580    New Jersey Devils         right         NJD      Shot          61.0   \n",
       "\n",
       "        y-coordinate         goalieName     shooterName    shotType  \\\n",
       "102422         -14.0     Mikko Koskinen   Morgan Rielly  Wrist Shot   \n",
       "430             -6.0  Frederik Andersen     P.K. Subban   Slap Shot   \n",
       "216457         -36.0       Robin Lehner  Braydon Coburn   Snap Shot   \n",
       "125842         -12.0  Frederik Andersen     Jake Muzzin  Wrist Shot   \n",
       "125580          32.0      Thomas Greiss   Kyle Palmieri  Wrist Shot   \n",
       "\n",
       "        isEmptyNet strength  shot_distance     angle  isgoal last_event_type  \\\n",
       "102422           0    False      29.529646 -0.493941       0     Missed Shot   \n",
       "430              0    False      76.236474 -0.078784       0        Giveaway   \n",
       "216457           0    False      67.416615 -0.563316       0    Blocked Shot   \n",
       "125842           0    False      13.892444 -1.042722       0            Shot   \n",
       "125580           0    False      42.520583  0.851966       0         Faceoff   \n",
       "\n",
       "        coor_x_last_event  coor_y_last_event  time_last_event  \\\n",
       "102422              -73.0               15.0              6.0   \n",
       "430                 -21.0               -2.0             11.0   \n",
       "216457              -74.0               -2.0              5.0   \n",
       "125842              -78.0               -4.0              3.0   \n",
       "125580               69.0              -22.0             31.0   \n",
       "\n",
       "        distance_last_event  is_rebound  Change in shot angle      Speed  \\\n",
       "102422            30.675723        True             -0.367349   5.112621   \n",
       "430               34.234486        True             -0.743558   3.112226   \n",
       "216457            54.037024        True              0.031443  10.807405   \n",
       "125842             8.944272        True             -1.018774   2.981424   \n",
       "125580            54.589376        True              0.557732   1.760948   \n",
       "\n",
       "        season  \n",
       "102422    2018  \n",
       "430       2017  \n",
       "216457    2016  \n",
       "125842    2018  \n",
       "125580    2018  "
      ]
     },
     "execution_count": 3,
     "metadata": {},
     "output_type": "execute_result"
    }
   ],
   "source": [
    "df_train = pd.read_csv(path_train_csv)\n",
    "print(f\"Shape of df_train: {df_train.shape}\")\n",
    "\n",
    "df_val = pd.read_csv(path_val_csv)\n",
    "print(f\"Shape of df_val: {df_val.shape}\")\n",
    "\n",
    "df_train.sample(5)"
   ]
  },
  {
   "cell_type": "code",
   "execution_count": 4,
   "metadata": {},
   "outputs": [
    {
     "name": "stdout",
     "output_type": "stream",
     "text": [
      "AFTER drop nan samples\n",
      "Shape of df_train: (244497, 32)\n",
      "Shape of df_val: (69968, 32)\n"
     ]
    }
   ],
   "source": [
    "df_train.dropna(inplace=True)\n",
    "df_val.dropna(inplace=True)\n",
    "\n",
    "print(f\"AFTER drop nan samples\")\n",
    "print(f\"Shape of df_train: {df_train.shape}\")\n",
    "print(f\"Shape of df_val: {df_val.shape}\")"
   ]
  },
  {
   "cell_type": "markdown",
   "metadata": {},
   "source": [
    "- There are 4% of samples containing NaN value. It is fine to remove all of NaN samples."
   ]
  },
  {
   "cell_type": "markdown",
   "metadata": {},
   "source": [
    "# 1. Add more feature\n",
    "\n",
    "- In this section, we will add the new feature called `attacking_zone_shot`. This feature indicates whether the shot occurred in the attacking zone.\n",
    "- We choose to analyze this feature based on the observation that the shot in the attacking zone has high chance to become a goal.\n",
    "- **After analyzing**, we realize that 94.5% shot happend inside attacking zone, and 5% shot happened outside attacking zone."
   ]
  },
  {
   "cell_type": "code",
   "execution_count": 5,
   "metadata": {},
   "outputs": [],
   "source": [
    "def Is_Shot_In_Attacking_Zone(x_coordinate_shot, attacking_side):\n",
    "\n",
    "    if str(attacking_side).lower() == \"left\":\n",
    "        x_coordinate_net = -89\n",
    "        attacking_zone_range = -25\n",
    "        return x_coordinate_net <= x_coordinate_shot <= attacking_zone_range\n",
    "    elif str(attacking_side).lower() == \"right\":\n",
    "        x_coordinate_net = 89\n",
    "        attacking_zone_range = 25\n",
    "        return  attacking_zone_range <= x_coordinate_shot <= x_coordinate_net\n",
    "    else:\n",
    "        return None"
   ]
  },
  {
   "cell_type": "code",
   "execution_count": 6,
   "metadata": {},
   "outputs": [],
   "source": [
    "df_train['attacking_zone_shot'] = df_train.apply(lambda x: Is_Shot_In_Attacking_Zone(x['x-coordinate'], x['attackingSide']), axis=1)\n",
    "df_val['attacking_zone_shot'] = df_val.apply(lambda x: Is_Shot_In_Attacking_Zone(x['x-coordinate'], x['attackingSide']), axis=1)"
   ]
  },
  {
   "cell_type": "markdown",
   "metadata": {},
   "source": [
    "# 2. Feature selection\n",
    "\n",
    "- In this section, I will use **correlation** and **mutual information** to perform the feature selection."
   ]
  },
  {
   "cell_type": "markdown",
   "metadata": {},
   "source": [
    "### a. Correlation\n",
    "\n",
    "- In this section, we will check the correlation value between pairs of features. If the correlation between two features are larger than specific `threshold`, we will remove it."
   ]
  },
  {
   "cell_type": "code",
   "execution_count": 7,
   "metadata": {},
   "outputs": [],
   "source": [
    "list_features = ['period', 'x-coordinate', 'y-coordinate', 'shot_distance', 'angle', 'last_event_type', 'coor_x_last_event',\\\n",
    "                 'coor_y_last_event', 'time_last_event', 'distance_last_event', 'is_rebound', 'Change in shot angle', 'Speed']\n",
    "\n",
    "labels = 'isgoal'"
   ]
  },
  {
   "cell_type": "code",
   "execution_count": 8,
   "metadata": {},
   "outputs": [],
   "source": [
    "X_train = df_train[list_features]\n",
    "y_train = df_train[labels]\n",
    "\n",
    "X_val = df_val[list_features]\n",
    "y_val = df_val[labels]"
   ]
  },
  {
   "cell_type": "code",
   "execution_count": 9,
   "metadata": {},
   "outputs": [],
   "source": [
    "def List_High_Corr_Features(df, threshold=0.9):\n",
    "\n",
    "    # Find numerical features\n",
    "    numerical_features = df.select_dtypes(include=['int', 'float']).columns\n",
    "    df = df[numerical_features]\n",
    "\n",
    "    corr_matrix = df.corr().abs()\n",
    "\n",
    "    upper = corr_matrix.where(np.triu(np.ones(corr_matrix.shape), k=1).astype(bool))\n",
    "\n",
    "    drop_features = [column for column in upper.columns if any(upper[column] > threshold)]\n",
    "    # X = X.drop(drop_features, axis=1)\n",
    "\n",
    "    return drop_features"
   ]
  },
  {
   "cell_type": "code",
   "execution_count": 10,
   "metadata": {},
   "outputs": [
    {
     "name": "stdout",
     "output_type": "stream",
     "text": [
      "[INFO] Drop high correlation: []\n"
     ]
    }
   ],
   "source": [
    "# Remove high correlation features\n",
    "threshold = 0.9\n",
    "drop_features = List_High_Corr_Features(X_train, threshold=threshold)\n",
    "print(f\"[INFO] Drop high correlation: {drop_features}\")\n",
    "\n",
    "X_train = X_train.drop(drop_features, axis=1)\n",
    "X_val = X_val.drop(drop_features, axis=1)\n",
    "\n",
    "# categorical_features = ['last_event_type', 'is_rebound']\n",
    "# numerical_features = [i for i in list(X.columns) if i not in categorical_features]"
   ]
  },
  {
   "cell_type": "markdown",
   "metadata": {},
   "source": [
    "### b. Mutual information\n",
    "\n",
    "- On this section, we will use mutual information to identify the relationship between features and the target variable. \n",
    "- From practical visualization, we will choose features, whose mutual information scores are above 0.01."
   ]
  },
  {
   "cell_type": "code",
   "execution_count": 11,
   "metadata": {},
   "outputs": [],
   "source": [
    "numerical_features = X_train.select_dtypes(include=['int', 'float']).columns\n",
    "categorical_features = [i for i in list(X_train.columns) if i not in numerical_features]\n",
    "\n",
    "X_train_numerical = X_train[numerical_features]\n",
    "X_train_categorical = X_train[categorical_features]\n",
    "\n",
    "X_val_numerical = X_val[numerical_features]\n",
    "X_val_categorical = X_val[categorical_features]"
   ]
  },
  {
   "cell_type": "code",
   "execution_count": 12,
   "metadata": {},
   "outputs": [
    {
     "name": "stdout",
     "output_type": "stream",
     "text": [
      "Selected features (mutual information): Index(['period', 'x-coordinate', 'y-coordinate', 'shot_distance', 'angle'], dtype='object')\n"
     ]
    }
   ],
   "source": [
    "# Calculate mutual information\n",
    "mi_selector = SelectKBest(mutual_info_classif, k='all')\n",
    "mi_selector.fit(X_train_numerical, y_train)\n",
    "\n",
    "# Remove feature with threshold smaller than threshold\n",
    "threshold_mi = 0.01\n",
    "selected_features = X_train_numerical.columns[mi_selector.scores_ > threshold_mi]\n",
    "print(f\"Selected features (mutual information): {selected_features}\")\n",
    "\n",
    "X_train_numerical = X_train_numerical[selected_features]\n",
    "X_val_numerical = X_val_numerical[selected_features]"
   ]
  },
  {
   "cell_type": "markdown",
   "metadata": {},
   "source": [
    "# c. Convert categorical feature into one-hot vector"
   ]
  },
  {
   "cell_type": "code",
   "execution_count": 13,
   "metadata": {},
   "outputs": [],
   "source": [
    "encoder = OneHotEncoder(handle_unknown='ignore')\n",
    "encoder.fit(X_train_categorical)\n",
    "\n",
    "X_train_categorical = encoder.transform(X_train_categorical).toarray()\n",
    "X_val_categorical = encoder.transform(X_val_categorical).toarray()"
   ]
  },
  {
   "cell_type": "markdown",
   "metadata": {},
   "source": [
    "## d. Convert numerical features"
   ]
  },
  {
   "cell_type": "code",
   "execution_count": 14,
   "metadata": {},
   "outputs": [],
   "source": [
    "scaler = StandardScaler()\n",
    "scaler.fit(X_train_numerical)\n",
    "\n",
    "X_train_numerical = scaler.transform(X_train_numerical)\n",
    "X_val_numerical = scaler.transform(X_val_numerical)"
   ]
  },
  {
   "cell_type": "code",
   "execution_count": 15,
   "metadata": {},
   "outputs": [],
   "source": [
    "X_train = np.concatenate([X_train_numerical, X_train_categorical], axis=1)\n",
    "X_val = np.concatenate([X_val_numerical, X_val_categorical], axis=1)"
   ]
  },
  {
   "cell_type": "code",
   "execution_count": null,
   "metadata": {},
   "outputs": [],
   "source": []
  },
  {
   "cell_type": "markdown",
   "metadata": {},
   "source": [
    "# 3. Building machine learning model\n",
    "\n",
    "- In this section, we will use **Decision tree**.\n"
   ]
  },
  {
   "cell_type": "code",
   "execution_count": 16,
   "metadata": {},
   "outputs": [
    {
     "data": {
      "text/html": [
       "<style>#sk-container-id-1 {color: black;background-color: white;}#sk-container-id-1 pre{padding: 0;}#sk-container-id-1 div.sk-toggleable {background-color: white;}#sk-container-id-1 label.sk-toggleable__label {cursor: pointer;display: block;width: 100%;margin-bottom: 0;padding: 0.3em;box-sizing: border-box;text-align: center;}#sk-container-id-1 label.sk-toggleable__label-arrow:before {content: \"▸\";float: left;margin-right: 0.25em;color: #696969;}#sk-container-id-1 label.sk-toggleable__label-arrow:hover:before {color: black;}#sk-container-id-1 div.sk-estimator:hover label.sk-toggleable__label-arrow:before {color: black;}#sk-container-id-1 div.sk-toggleable__content {max-height: 0;max-width: 0;overflow: hidden;text-align: left;background-color: #f0f8ff;}#sk-container-id-1 div.sk-toggleable__content pre {margin: 0.2em;color: black;border-radius: 0.25em;background-color: #f0f8ff;}#sk-container-id-1 input.sk-toggleable__control:checked~div.sk-toggleable__content {max-height: 200px;max-width: 100%;overflow: auto;}#sk-container-id-1 input.sk-toggleable__control:checked~label.sk-toggleable__label-arrow:before {content: \"▾\";}#sk-container-id-1 div.sk-estimator input.sk-toggleable__control:checked~label.sk-toggleable__label {background-color: #d4ebff;}#sk-container-id-1 div.sk-label input.sk-toggleable__control:checked~label.sk-toggleable__label {background-color: #d4ebff;}#sk-container-id-1 input.sk-hidden--visually {border: 0;clip: rect(1px 1px 1px 1px);clip: rect(1px, 1px, 1px, 1px);height: 1px;margin: -1px;overflow: hidden;padding: 0;position: absolute;width: 1px;}#sk-container-id-1 div.sk-estimator {font-family: monospace;background-color: #f0f8ff;border: 1px dotted black;border-radius: 0.25em;box-sizing: border-box;margin-bottom: 0.5em;}#sk-container-id-1 div.sk-estimator:hover {background-color: #d4ebff;}#sk-container-id-1 div.sk-parallel-item::after {content: \"\";width: 100%;border-bottom: 1px solid gray;flex-grow: 1;}#sk-container-id-1 div.sk-label:hover label.sk-toggleable__label {background-color: #d4ebff;}#sk-container-id-1 div.sk-serial::before {content: \"\";position: absolute;border-left: 1px solid gray;box-sizing: border-box;top: 0;bottom: 0;left: 50%;z-index: 0;}#sk-container-id-1 div.sk-serial {display: flex;flex-direction: column;align-items: center;background-color: white;padding-right: 0.2em;padding-left: 0.2em;position: relative;}#sk-container-id-1 div.sk-item {position: relative;z-index: 1;}#sk-container-id-1 div.sk-parallel {display: flex;align-items: stretch;justify-content: center;background-color: white;position: relative;}#sk-container-id-1 div.sk-item::before, #sk-container-id-1 div.sk-parallel-item::before {content: \"\";position: absolute;border-left: 1px solid gray;box-sizing: border-box;top: 0;bottom: 0;left: 50%;z-index: -1;}#sk-container-id-1 div.sk-parallel-item {display: flex;flex-direction: column;z-index: 1;position: relative;background-color: white;}#sk-container-id-1 div.sk-parallel-item:first-child::after {align-self: flex-end;width: 50%;}#sk-container-id-1 div.sk-parallel-item:last-child::after {align-self: flex-start;width: 50%;}#sk-container-id-1 div.sk-parallel-item:only-child::after {width: 0;}#sk-container-id-1 div.sk-dashed-wrapped {border: 1px dashed gray;margin: 0 0.4em 0.5em 0.4em;box-sizing: border-box;padding-bottom: 0.4em;background-color: white;}#sk-container-id-1 div.sk-label label {font-family: monospace;font-weight: bold;display: inline-block;line-height: 1.2em;}#sk-container-id-1 div.sk-label-container {text-align: center;}#sk-container-id-1 div.sk-container {/* jupyter's `normalize.less` sets `[hidden] { display: none; }` but bootstrap.min.css set `[hidden] { display: none !important; }` so we also need the `!important` here to be able to override the default hidden behavior on the sphinx rendered scikit-learn.org. See: https://github.com/scikit-learn/scikit-learn/issues/21755 */display: inline-block !important;position: relative;}#sk-container-id-1 div.sk-text-repr-fallback {display: none;}</style><div id=\"sk-container-id-1\" class=\"sk-top-container\"><div class=\"sk-text-repr-fallback\"><pre>DecisionTreeClassifier()</pre><b>In a Jupyter environment, please rerun this cell to show the HTML representation or trust the notebook. <br />On GitHub, the HTML representation is unable to render, please try loading this page with nbviewer.org.</b></div><div class=\"sk-container\" hidden><div class=\"sk-item\"><div class=\"sk-estimator sk-toggleable\"><input class=\"sk-toggleable__control sk-hidden--visually\" id=\"sk-estimator-id-1\" type=\"checkbox\" checked><label for=\"sk-estimator-id-1\" class=\"sk-toggleable__label sk-toggleable__label-arrow\">DecisionTreeClassifier</label><div class=\"sk-toggleable__content\"><pre>DecisionTreeClassifier()</pre></div></div></div></div></div>"
      ],
      "text/plain": [
       "DecisionTreeClassifier()"
      ]
     },
     "execution_count": 16,
     "metadata": {},
     "output_type": "execute_result"
    }
   ],
   "source": [
    "clf = DecisionTreeClassifier()\n",
    "\n",
    "clf.fit(X_train, y_train)"
   ]
  },
  {
   "cell_type": "markdown",
   "metadata": {},
   "source": [
    "### a. Evaluation"
   ]
  },
  {
   "cell_type": "code",
   "execution_count": 17,
   "metadata": {},
   "outputs": [
    {
     "name": "stdout",
     "output_type": "stream",
     "text": [
      "Accuracy: 0.88\n",
      "Confusion Matrix:\n",
      "[[60768  2906]\n",
      " [ 5834   460]]\n"
     ]
    }
   ],
   "source": [
    "y_val_pred = clf.predict(X_val)\n",
    "\n",
    "accuracy = accuracy_score(y_val, y_val_pred)\n",
    "conf_matrix = confusion_matrix(y_val, y_val_pred)\n",
    "\n",
    "print(f\"Accuracy: {accuracy:.2f}\")\n",
    "print(\"Confusion Matrix:\")\n",
    "print(conf_matrix)"
   ]
  },
  {
   "cell_type": "markdown",
   "metadata": {},
   "source": [
    "# 4. Grid search decision tree"
   ]
  },
  {
   "cell_type": "code",
   "execution_count": 44,
   "metadata": {},
   "outputs": [],
   "source": [
    "param_grid = {\n",
    "    'criterion': ['gini', 'entropy'],\n",
    "    'max_depth': [10, 15]\n",
    "}"
   ]
  },
  {
   "cell_type": "code",
   "execution_count": 45,
   "metadata": {},
   "outputs": [],
   "source": [
    "dt_classifier = DecisionTreeClassifier()\n",
    "\n",
    "grid_search = GridSearchCV(dt_classifier, param_grid, cv=5, scoring='f1_micro')\n",
    "grid_search.fit(X_train, y_train)\n",
    "\n",
    "best_params = grid_search.best_params_\n",
    "best_dt_classifier = grid_search.best_estimator_"
   ]
  },
  {
   "cell_type": "code",
   "execution_count": 46,
   "metadata": {},
   "outputs": [
    {
     "name": "stdout",
     "output_type": "stream",
     "text": [
      "Best Parameters: {'criterion': 'entropy', 'max_depth': 10}\n",
      "Accuracy validation set: 0.91\n",
      "Confusion Matrix:\n",
      "[[63591    83]\n",
      " [ 6254    40]]\n"
     ]
    }
   ],
   "source": [
    "y_val_pred = best_dt_classifier.predict(X_val)\n",
    "accuracy = accuracy_score(y_val, y_val_pred)\n",
    "conf_matrix = confusion_matrix(y_val, y_val_pred)\n",
    "\n",
    "print(\"Best Parameters:\", best_params)\n",
    "print(f\"Accuracy validation set: {accuracy:.2f}\")\n",
    "print(\"Confusion Matrix:\")\n",
    "print(conf_matrix)    "
   ]
  },
  {
   "cell_type": "markdown",
   "metadata": {},
   "source": [
    "# 5. Visualization"
   ]
  },
  {
   "cell_type": "code",
   "execution_count": 47,
   "metadata": {},
   "outputs": [],
   "source": [
    "from sklearn.metrics import roc_curve, auc, roc_auc_score"
   ]
  },
  {
   "cell_type": "markdown",
   "metadata": {},
   "source": [
    "# a. ROC and AUC"
   ]
  },
  {
   "cell_type": "code",
   "execution_count": 48,
   "metadata": {},
   "outputs": [
    {
     "data": {
      "image/png": "[encoded data removed]",
      "text/plain": [
       "<Figure size 800x600 with 1 Axes>"
      ]
     },
     "metadata": {},
     "output_type": "display_data"
    },
    {
     "name": "stdout",
     "output_type": "stream",
     "text": [
      "AUC: 0.5784448959053115\n"
     ]
    }
   ],
   "source": [
    "y_prob = clf.predict_proba(X_val)[:, 1]\n",
    "\n",
    "# Calculate ROC curve and AUC\n",
    "fpr, tpr, thresholds = roc_curve(y_val, y_prob)\n",
    "roc_auc = auc(fpr, tpr)\n",
    "\n",
    "# Plot ROC curve\n",
    "plt.figure(figsize=(8, 6))\n",
    "plt.plot(fpr, tpr, color='darkorange', lw=2, label='ROC curve (AUC = {:.2f})'.format(roc_auc))\n",
    "plt.plot([0, 1], [0, 1], color='navy', lw=2, linestyle='--', label='Random')\n",
    "plt.xlabel('False Positive Rate')\n",
    "plt.ylabel('True Positive Rate')\n",
    "plt.title('ROC Curve')\n",
    "plt.legend(loc='lower right')\n",
    "plt.show()\n",
    "\n",
    "# Display AUC score\n",
    "print('AUC:', roc_auc_score(y_val, y_prob))"
   ]
  },
  {
   "cell_type": "markdown",
   "metadata": {},
   "source": [
    "### b. Goal rate"
   ]
  },
  {
   "cell_type": "code",
   "execution_count": 52,
   "metadata": {},
   "outputs": [
    {
     "data": {
      "text/plain": [
       "array([0.09594595, 0.01735509, 0.01575967, ..., 0.        , 0.        ,\n",
       "       0.03      ])"
      ]
     },
     "execution_count": 52,
     "metadata": {},
     "output_type": "execute_result"
    }
   ],
   "source": [
    "y_val_pre_proba = best_dt_classifier.predict_proba(X_val)[:, 1]\n",
    "y_val_pre_proba"
   ]
  },
  {
   "cell_type": "code",
   "execution_count": 65,
   "metadata": {},
   "outputs": [
    {
     "data": {
      "text/html": [
       "<div>\n",
       "<style scoped>\n",
       "    .dataframe tbody tr th:only-of-type {\n",
       "        vertical-align: middle;\n",
       "    }\n",
       "\n",
       "    .dataframe tbody tr th {\n",
       "        vertical-align: top;\n",
       "    }\n",
       "\n",
       "    .dataframe thead th {\n",
       "        text-align: right;\n",
       "    }\n",
       "</style>\n",
       "<table border=\"1\" class=\"dataframe\">\n",
       "  <thead>\n",
       "    <tr style=\"text-align: right;\">\n",
       "      <th></th>\n",
       "      <th>shot_probability</th>\n",
       "      <th>goal</th>\n",
       "    </tr>\n",
       "  </thead>\n",
       "  <tbody>\n",
       "    <tr>\n",
       "      <th>0</th>\n",
       "      <td>0.0</td>\n",
       "      <td>0</td>\n",
       "    </tr>\n",
       "    <tr>\n",
       "      <th>1</th>\n",
       "      <td>0.0</td>\n",
       "      <td>0</td>\n",
       "    </tr>\n",
       "    <tr>\n",
       "      <th>2</th>\n",
       "      <td>0.0</td>\n",
       "      <td>0</td>\n",
       "    </tr>\n",
       "    <tr>\n",
       "      <th>3</th>\n",
       "      <td>0.0</td>\n",
       "      <td>0</td>\n",
       "    </tr>\n",
       "    <tr>\n",
       "      <th>4</th>\n",
       "      <td>0.0</td>\n",
       "      <td>0</td>\n",
       "    </tr>\n",
       "    <tr>\n",
       "      <th>...</th>\n",
       "      <td>...</td>\n",
       "      <td>...</td>\n",
       "    </tr>\n",
       "    <tr>\n",
       "      <th>69963</th>\n",
       "      <td>1.0</td>\n",
       "      <td>0</td>\n",
       "    </tr>\n",
       "    <tr>\n",
       "      <th>69964</th>\n",
       "      <td>1.0</td>\n",
       "      <td>0</td>\n",
       "    </tr>\n",
       "    <tr>\n",
       "      <th>69965</th>\n",
       "      <td>1.0</td>\n",
       "      <td>0</td>\n",
       "    </tr>\n",
       "    <tr>\n",
       "      <th>69966</th>\n",
       "      <td>1.0</td>\n",
       "      <td>0</td>\n",
       "    </tr>\n",
       "    <tr>\n",
       "      <th>69967</th>\n",
       "      <td>1.0</td>\n",
       "      <td>0</td>\n",
       "    </tr>\n",
       "  </tbody>\n",
       "</table>\n",
       "<p>69968 rows × 2 columns</p>\n",
       "</div>"
      ],
      "text/plain": [
       "       shot_probability  goal\n",
       "0                   0.0     0\n",
       "1                   0.0     0\n",
       "2                   0.0     0\n",
       "3                   0.0     0\n",
       "4                   0.0     0\n",
       "...                 ...   ...\n",
       "69963               1.0     0\n",
       "69964               1.0     0\n",
       "69965               1.0     0\n",
       "69966               1.0     0\n",
       "69967               1.0     0\n",
       "\n",
       "[69968 rows x 2 columns]"
      ]
     },
     "execution_count": 65,
     "metadata": {},
     "output_type": "execute_result"
    }
   ],
   "source": [
    "df_goal_rate = pd.DataFrame({'shot_probability': y_val_pre_proba,\\\n",
    "                             'goal': y_val})\n",
    "\n",
    "df_goal_rate = df_goal_rate.sort_values(by='shot_probability')\n",
    "df_goal_rate.reset_index(inplace=True, drop=True)\n",
    "\n",
    "df_goal_rate"
   ]
  },
  {
   "cell_type": "code",
   "execution_count": 69,
   "metadata": {},
   "outputs": [],
   "source": [
    "df_goal_rate['cumulative_goals'] = df_goal_rate['goal'].cumsum()\n",
    "df_goal_rate['cumulative_shots'] = list(1 + df_goal_rate.index)\n",
    "\n",
    "# Calculate the goal rate at each percentile\n",
    "df_goal_rate['goal_rate'] = df_goal_rate['cumulative_goals'] / df_goal_rate['cumulative_shots']"
   ]
  },
  {
   "cell_type": "code",
   "execution_count": 74,
   "metadata": {},
   "outputs": [
    {
     "data": {
      "image/png": "[encoded data removed]",
      "text/plain": [
       "<Figure size 1000x600 with 1 Axes>"
      ]
     },
     "metadata": {},
     "output_type": "display_data"
    }
   ],
   "source": [
    "plt.figure(figsize=(10, 6))\n",
    "plt.plot(df_goal_rate['shot_probability'], df_goal_rate['goal_rate'])\n",
    "plt.ylim(0.0, 1.0)\n",
    "plt.xlabel('Shot Probability Model Percentile')\n",
    "plt.ylabel('Goal Rate')\n",
    "plt.title('Goal Rate as a Function of Shot Probability Model Percentile')\n",
    "plt.grid(True)\n",
    "plt.show()"
   ]
  },
  {
   "cell_type": "markdown",
   "metadata": {},
   "source": [
    "### c. "
   ]
  },
  {
   "cell_type": "code",
   "execution_count": 75,
   "metadata": {},
   "outputs": [
    {
     "data": {
      "text/html": [
       "<div>\n",
       "<style scoped>\n",
       "    .dataframe tbody tr th:only-of-type {\n",
       "        vertical-align: middle;\n",
       "    }\n",
       "\n",
       "    .dataframe tbody tr th {\n",
       "        vertical-align: top;\n",
       "    }\n",
       "\n",
       "    .dataframe thead th {\n",
       "        text-align: right;\n",
       "    }\n",
       "</style>\n",
       "<table border=\"1\" class=\"dataframe\">\n",
       "  <thead>\n",
       "    <tr style=\"text-align: right;\">\n",
       "      <th></th>\n",
       "      <th>shot_probability</th>\n",
       "      <th>goal</th>\n",
       "      <th>cumulative_goals</th>\n",
       "      <th>cumulative_shots</th>\n",
       "      <th>goal_rate</th>\n",
       "    </tr>\n",
       "  </thead>\n",
       "  <tbody>\n",
       "    <tr>\n",
       "      <th>0</th>\n",
       "      <td>0.0</td>\n",
       "      <td>0</td>\n",
       "      <td>0</td>\n",
       "      <td>1</td>\n",
       "      <td>0.000000</td>\n",
       "    </tr>\n",
       "    <tr>\n",
       "      <th>1</th>\n",
       "      <td>0.0</td>\n",
       "      <td>0</td>\n",
       "      <td>0</td>\n",
       "      <td>2</td>\n",
       "      <td>0.000000</td>\n",
       "    </tr>\n",
       "    <tr>\n",
       "      <th>2</th>\n",
       "      <td>0.0</td>\n",
       "      <td>0</td>\n",
       "      <td>0</td>\n",
       "      <td>3</td>\n",
       "      <td>0.000000</td>\n",
       "    </tr>\n",
       "    <tr>\n",
       "      <th>3</th>\n",
       "      <td>0.0</td>\n",
       "      <td>0</td>\n",
       "      <td>0</td>\n",
       "      <td>4</td>\n",
       "      <td>0.000000</td>\n",
       "    </tr>\n",
       "    <tr>\n",
       "      <th>4</th>\n",
       "      <td>0.0</td>\n",
       "      <td>0</td>\n",
       "      <td>0</td>\n",
       "      <td>5</td>\n",
       "      <td>0.000000</td>\n",
       "    </tr>\n",
       "    <tr>\n",
       "      <th>...</th>\n",
       "      <td>...</td>\n",
       "      <td>...</td>\n",
       "      <td>...</td>\n",
       "      <td>...</td>\n",
       "      <td>...</td>\n",
       "    </tr>\n",
       "    <tr>\n",
       "      <th>69963</th>\n",
       "      <td>1.0</td>\n",
       "      <td>0</td>\n",
       "      <td>6294</td>\n",
       "      <td>69964</td>\n",
       "      <td>0.089961</td>\n",
       "    </tr>\n",
       "    <tr>\n",
       "      <th>69964</th>\n",
       "      <td>1.0</td>\n",
       "      <td>0</td>\n",
       "      <td>6294</td>\n",
       "      <td>69965</td>\n",
       "      <td>0.089959</td>\n",
       "    </tr>\n",
       "    <tr>\n",
       "      <th>69965</th>\n",
       "      <td>1.0</td>\n",
       "      <td>0</td>\n",
       "      <td>6294</td>\n",
       "      <td>69966</td>\n",
       "      <td>0.089958</td>\n",
       "    </tr>\n",
       "    <tr>\n",
       "      <th>69966</th>\n",
       "      <td>1.0</td>\n",
       "      <td>0</td>\n",
       "      <td>6294</td>\n",
       "      <td>69967</td>\n",
       "      <td>0.089957</td>\n",
       "    </tr>\n",
       "    <tr>\n",
       "      <th>69967</th>\n",
       "      <td>1.0</td>\n",
       "      <td>0</td>\n",
       "      <td>6294</td>\n",
       "      <td>69968</td>\n",
       "      <td>0.089955</td>\n",
       "    </tr>\n",
       "  </tbody>\n",
       "</table>\n",
       "<p>69968 rows × 5 columns</p>\n",
       "</div>"
      ],
      "text/plain": [
       "       shot_probability  goal  cumulative_goals  cumulative_shots  goal_rate\n",
       "0                   0.0     0                 0                 1   0.000000\n",
       "1                   0.0     0                 0                 2   0.000000\n",
       "2                   0.0     0                 0                 3   0.000000\n",
       "3                   0.0     0                 0                 4   0.000000\n",
       "4                   0.0     0                 0                 5   0.000000\n",
       "...                 ...   ...               ...               ...        ...\n",
       "69963               1.0     0              6294             69964   0.089961\n",
       "69964               1.0     0              6294             69965   0.089959\n",
       "69965               1.0     0              6294             69966   0.089958\n",
       "69966               1.0     0              6294             69967   0.089957\n",
       "69967               1.0     0              6294             69968   0.089955\n",
       "\n",
       "[69968 rows x 5 columns]"
      ]
     },
     "execution_count": 75,
     "metadata": {},
     "output_type": "execute_result"
    }
   ],
   "source": [
    "df_goal_rate"
   ]
  },
  {
   "cell_type": "code",
   "execution_count": 76,
   "metadata": {},
   "outputs": [],
   "source": [
    "total_goals = df_goal_rate['goal'].sum()\n",
    "\n",
    "# Calculate the cumulative proportion of goals at each percentile\n",
    "df_goal_rate['cumulative_proportion_goals'] = df_goal_rate['cumulative_goals'] / total_goals"
   ]
  },
  {
   "cell_type": "code",
   "execution_count": 77,
   "metadata": {},
   "outputs": [
    {
     "data": {
      "image/png": "[encoded data removed]",
      "text/plain": [
       "<Figure size 1000x600 with 1 Axes>"
      ]
     },
     "metadata": {},
     "output_type": "display_data"
    }
   ],
   "source": [
    "# Plot the cumulative proportion of goals as a function of the shot probability model percentile\n",
    "plt.figure(figsize=(10, 6))\n",
    "plt.plot(df_goal_rate['shot_probability'], df_goal_rate['cumulative_proportion_goals'])\n",
    "plt.xlabel('Shot Probability Model Percentile')\n",
    "plt.ylabel('Cumulative Proportion of Goals')\n",
    "plt.title('Cumulative Proportion of Goals as a Function of Shot Probability Model Percentile')\n",
    "plt.grid(True)\n",
    "plt.show()\n"
   ]
  },
  {
   "cell_type": "code",
   "execution_count": null,
   "metadata": {},
   "outputs": [],
   "source": []
  }
 ],
 "metadata": {
  "kernelspec": {
   "display_name": "ds_env",
   "language": "python",
   "name": "python3"
  },
  "language_info": {
   "codemirror_mode": {
    "name": "ipython",
    "version": 3
   },
   "file_extension": ".py",
   "mimetype": "text/x-python",
   "name": "python",
   "nbconvert_exporter": "python",
   "pygments_lexer": "ipython3",
   "version": "3.9.18"
  }
 },
 "nbformat": 4,
 "nbformat_minor": 2
}
