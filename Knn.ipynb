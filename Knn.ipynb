{
 "cells": [
  {
   "cell_type": "code",
   "execution_count": 51,
   "metadata": {
    "collapsed": true,
    "ExecuteTime": {
     "end_time": "2023-11-12T01:23:58.941534100Z",
     "start_time": "2023-11-12T01:23:58.903393200Z"
    }
   },
   "outputs": [],
   "source": [
    "# Import comet_ml at the top of your file, before sklearn!\n",
    "from comet_ml import Experiment\n",
    "import os\n",
    "import pandas as pd\n",
    "from sklearn.model_selection import train_test_split, GridSearchCV, cross_val_score\n",
    "from sklearn.preprocessing import StandardScaler\n",
    "from sklearn.impute import SimpleImputer\n",
    "from sklearn.neighbors import KNeighborsClassifier\n",
    "from sklearn.pipeline import Pipeline\n",
    "from sklearn.metrics import accuracy_score, classification_report, make_scorer, roc_auc_score\n",
    "from sklearn.compose import ColumnTransformer\n",
    "from sklearn.compose import make_column_selector\n",
    "from sklearn.model_selection import StratifiedKFold\n",
    "import seaborn as sn\n",
    "import numpy as np"
   ]
  },
  {
   "cell_type": "markdown",
   "source": [
    "Read the last version of the data"
   ],
   "metadata": {
    "collapsed": false
   }
  },
  {
   "cell_type": "code",
   "execution_count": 52,
   "outputs": [
    {
     "data": {
      "text/plain": "        Unnamed: 0      gamePk             homeTeam  period periodType  \\\n0                0  2017020495    Vancouver Canucks       1    REGULAR   \n1                1  2017020495    Vancouver Canucks       1    REGULAR   \n2                2  2017020495    Vancouver Canucks       1    REGULAR   \n3                3  2017020495    Vancouver Canucks       1    REGULAR   \n4                4  2017020495    Vancouver Canucks       1    REGULAR   \n...            ...         ...                  ...     ...        ...   \n385071      385071  2016030153  Nashville Predators       4   OVERTIME   \n385072      385072  2016030153  Nashville Predators       4   OVERTIME   \n385073      385073  2016030153  Nashville Predators       4   OVERTIME   \n385074      385074  2016030153  Nashville Predators       4   OVERTIME   \n385075      385075  2016030153  Nashville Predators       4   OVERTIME   \n\n       periodTime periodTimeRemaining              dateTime  teamId  \\\n0           00:13               19:47  2017-12-16T03:08:32Z      23   \n1           00:14               19:46  2017-12-16T03:08:41Z      23   \n2           00:44               19:16  2017-12-16T03:09:40Z      23   \n3           01:20               18:40  2017-12-16T03:10:50Z      23   \n4           02:08               17:52  2017-12-16T03:12:03Z      23   \n...           ...                 ...                   ...     ...   \n385071      12:06               07:54  2017-04-18T05:01:24Z      16   \n385072      13:56               06:04  2017-04-18T05:03:14Z      18   \n385073      15:07               04:53  2017-04-18T05:05:35Z      18   \n385074      15:24               04:36  2017-04-18T05:06:20Z      16   \n385075      16:44               03:16  2017-04-18T05:08:15Z      18   \n\n                   teamName  ... coor_x_last_event coor_y_last_event  \\\n0         Vancouver Canucks  ...               0.0               0.0   \n1         Vancouver Canucks  ...             -78.0               4.0   \n2         Vancouver Canucks  ...             -69.0              22.0   \n3         Vancouver Canucks  ...               0.0               0.0   \n4         Vancouver Canucks  ...             -64.0              36.0   \n...                     ...  ...               ...               ...   \n385071   Chicago Blackhawks  ...              55.0             -20.0   \n385072  Nashville Predators  ...             -57.0             -28.0   \n385073  Nashville Predators  ...             -69.0              22.0   \n385074   Chicago Blackhawks  ...             -44.0              11.0   \n385075  Nashville Predators  ...              31.0               2.0   \n\n       time_last_event  distance_last_event  is_rebound Change in shot angle  \\\n0                 13.0            78.102497       False             0.000000   \n1                  1.0             5.000000        True            -0.348771   \n2                 29.0            25.079872        True            -0.099669   \n3                 36.0            69.921384       False             0.000000   \n4                  3.0            45.221676        True            -0.757420   \n...                ...                  ...         ...                  ...   \n385071             6.0            55.362442        True             0.817116   \n385072           102.0            29.206164        True            -0.926397   \n385073             2.0            41.677332        True             0.360879   \n385074            12.0            75.643903        True            -0.320740   \n385075             9.0           117.038455        True             1.333262   \n\n            Speed power_play_time  n_friend n_oppose  \n0        0.000000               0         5        5  \n1        5.000000               0         5        5  \n2        0.864823              29         5        4  \n3        1.942261               0         5        5  \n4       15.073892               0         5        5  \n...           ...             ...       ...      ...  \n385071   9.227074               0         5        5  \n385072   0.286335               0         5        5  \n385073  20.838666               0         5        5  \n385074   6.303659               0         5        5  \n385075  13.004273               0         5        5  \n\n[385076 rows x 34 columns]",
      "text/html": "<div>\n<style scoped>\n    .dataframe tbody tr th:only-of-type {\n        vertical-align: middle;\n    }\n\n    .dataframe tbody tr th {\n        vertical-align: top;\n    }\n\n    .dataframe thead th {\n        text-align: right;\n    }\n</style>\n<table border=\"1\" class=\"dataframe\">\n  <thead>\n    <tr style=\"text-align: right;\">\n      <th></th>\n      <th>Unnamed: 0</th>\n      <th>gamePk</th>\n      <th>homeTeam</th>\n      <th>period</th>\n      <th>periodType</th>\n      <th>periodTime</th>\n      <th>periodTimeRemaining</th>\n      <th>dateTime</th>\n      <th>teamId</th>\n      <th>teamName</th>\n      <th>...</th>\n      <th>coor_x_last_event</th>\n      <th>coor_y_last_event</th>\n      <th>time_last_event</th>\n      <th>distance_last_event</th>\n      <th>is_rebound</th>\n      <th>Change in shot angle</th>\n      <th>Speed</th>\n      <th>power_play_time</th>\n      <th>n_friend</th>\n      <th>n_oppose</th>\n    </tr>\n  </thead>\n  <tbody>\n    <tr>\n      <th>0</th>\n      <td>0</td>\n      <td>2017020495</td>\n      <td>Vancouver Canucks</td>\n      <td>1</td>\n      <td>REGULAR</td>\n      <td>00:13</td>\n      <td>19:47</td>\n      <td>2017-12-16T03:08:32Z</td>\n      <td>23</td>\n      <td>Vancouver Canucks</td>\n      <td>...</td>\n      <td>0.0</td>\n      <td>0.0</td>\n      <td>13.0</td>\n      <td>78.102497</td>\n      <td>False</td>\n      <td>0.000000</td>\n      <td>0.000000</td>\n      <td>0</td>\n      <td>5</td>\n      <td>5</td>\n    </tr>\n    <tr>\n      <th>1</th>\n      <td>1</td>\n      <td>2017020495</td>\n      <td>Vancouver Canucks</td>\n      <td>1</td>\n      <td>REGULAR</td>\n      <td>00:14</td>\n      <td>19:46</td>\n      <td>2017-12-16T03:08:41Z</td>\n      <td>23</td>\n      <td>Vancouver Canucks</td>\n      <td>...</td>\n      <td>-78.0</td>\n      <td>4.0</td>\n      <td>1.0</td>\n      <td>5.000000</td>\n      <td>True</td>\n      <td>-0.348771</td>\n      <td>5.000000</td>\n      <td>0</td>\n      <td>5</td>\n      <td>5</td>\n    </tr>\n    <tr>\n      <th>2</th>\n      <td>2</td>\n      <td>2017020495</td>\n      <td>Vancouver Canucks</td>\n      <td>1</td>\n      <td>REGULAR</td>\n      <td>00:44</td>\n      <td>19:16</td>\n      <td>2017-12-16T03:09:40Z</td>\n      <td>23</td>\n      <td>Vancouver Canucks</td>\n      <td>...</td>\n      <td>-69.0</td>\n      <td>22.0</td>\n      <td>29.0</td>\n      <td>25.079872</td>\n      <td>True</td>\n      <td>-0.099669</td>\n      <td>0.864823</td>\n      <td>29</td>\n      <td>5</td>\n      <td>4</td>\n    </tr>\n    <tr>\n      <th>3</th>\n      <td>3</td>\n      <td>2017020495</td>\n      <td>Vancouver Canucks</td>\n      <td>1</td>\n      <td>REGULAR</td>\n      <td>01:20</td>\n      <td>18:40</td>\n      <td>2017-12-16T03:10:50Z</td>\n      <td>23</td>\n      <td>Vancouver Canucks</td>\n      <td>...</td>\n      <td>0.0</td>\n      <td>0.0</td>\n      <td>36.0</td>\n      <td>69.921384</td>\n      <td>False</td>\n      <td>0.000000</td>\n      <td>1.942261</td>\n      <td>0</td>\n      <td>5</td>\n      <td>5</td>\n    </tr>\n    <tr>\n      <th>4</th>\n      <td>4</td>\n      <td>2017020495</td>\n      <td>Vancouver Canucks</td>\n      <td>1</td>\n      <td>REGULAR</td>\n      <td>02:08</td>\n      <td>17:52</td>\n      <td>2017-12-16T03:12:03Z</td>\n      <td>23</td>\n      <td>Vancouver Canucks</td>\n      <td>...</td>\n      <td>-64.0</td>\n      <td>36.0</td>\n      <td>3.0</td>\n      <td>45.221676</td>\n      <td>True</td>\n      <td>-0.757420</td>\n      <td>15.073892</td>\n      <td>0</td>\n      <td>5</td>\n      <td>5</td>\n    </tr>\n    <tr>\n      <th>...</th>\n      <td>...</td>\n      <td>...</td>\n      <td>...</td>\n      <td>...</td>\n      <td>...</td>\n      <td>...</td>\n      <td>...</td>\n      <td>...</td>\n      <td>...</td>\n      <td>...</td>\n      <td>...</td>\n      <td>...</td>\n      <td>...</td>\n      <td>...</td>\n      <td>...</td>\n      <td>...</td>\n      <td>...</td>\n      <td>...</td>\n      <td>...</td>\n      <td>...</td>\n      <td>...</td>\n    </tr>\n    <tr>\n      <th>385071</th>\n      <td>385071</td>\n      <td>2016030153</td>\n      <td>Nashville Predators</td>\n      <td>4</td>\n      <td>OVERTIME</td>\n      <td>12:06</td>\n      <td>07:54</td>\n      <td>2017-04-18T05:01:24Z</td>\n      <td>16</td>\n      <td>Chicago Blackhawks</td>\n      <td>...</td>\n      <td>55.0</td>\n      <td>-20.0</td>\n      <td>6.0</td>\n      <td>55.362442</td>\n      <td>True</td>\n      <td>0.817116</td>\n      <td>9.227074</td>\n      <td>0</td>\n      <td>5</td>\n      <td>5</td>\n    </tr>\n    <tr>\n      <th>385072</th>\n      <td>385072</td>\n      <td>2016030153</td>\n      <td>Nashville Predators</td>\n      <td>4</td>\n      <td>OVERTIME</td>\n      <td>13:56</td>\n      <td>06:04</td>\n      <td>2017-04-18T05:03:14Z</td>\n      <td>18</td>\n      <td>Nashville Predators</td>\n      <td>...</td>\n      <td>-57.0</td>\n      <td>-28.0</td>\n      <td>102.0</td>\n      <td>29.206164</td>\n      <td>True</td>\n      <td>-0.926397</td>\n      <td>0.286335</td>\n      <td>0</td>\n      <td>5</td>\n      <td>5</td>\n    </tr>\n    <tr>\n      <th>385073</th>\n      <td>385073</td>\n      <td>2016030153</td>\n      <td>Nashville Predators</td>\n      <td>4</td>\n      <td>OVERTIME</td>\n      <td>15:07</td>\n      <td>04:53</td>\n      <td>2017-04-18T05:05:35Z</td>\n      <td>18</td>\n      <td>Nashville Predators</td>\n      <td>...</td>\n      <td>-69.0</td>\n      <td>22.0</td>\n      <td>2.0</td>\n      <td>41.677332</td>\n      <td>True</td>\n      <td>0.360879</td>\n      <td>20.838666</td>\n      <td>0</td>\n      <td>5</td>\n      <td>5</td>\n    </tr>\n    <tr>\n      <th>385074</th>\n      <td>385074</td>\n      <td>2016030153</td>\n      <td>Nashville Predators</td>\n      <td>4</td>\n      <td>OVERTIME</td>\n      <td>15:24</td>\n      <td>04:36</td>\n      <td>2017-04-18T05:06:20Z</td>\n      <td>16</td>\n      <td>Chicago Blackhawks</td>\n      <td>...</td>\n      <td>-44.0</td>\n      <td>11.0</td>\n      <td>12.0</td>\n      <td>75.643903</td>\n      <td>True</td>\n      <td>-0.320740</td>\n      <td>6.303659</td>\n      <td>0</td>\n      <td>5</td>\n      <td>5</td>\n    </tr>\n    <tr>\n      <th>385075</th>\n      <td>385075</td>\n      <td>2016030153</td>\n      <td>Nashville Predators</td>\n      <td>4</td>\n      <td>OVERTIME</td>\n      <td>16:44</td>\n      <td>03:16</td>\n      <td>2017-04-18T05:08:15Z</td>\n      <td>18</td>\n      <td>Nashville Predators</td>\n      <td>...</td>\n      <td>31.0</td>\n      <td>2.0</td>\n      <td>9.0</td>\n      <td>117.038455</td>\n      <td>True</td>\n      <td>1.333262</td>\n      <td>13.004273</td>\n      <td>0</td>\n      <td>5</td>\n      <td>5</td>\n    </tr>\n  </tbody>\n</table>\n<p>385076 rows × 34 columns</p>\n</div>"
     },
     "execution_count": 52,
     "metadata": {},
     "output_type": "execute_result"
    }
   ],
   "source": [
    "df = pd.read_csv('tidyData_fe4.csv')\n",
    "\n",
    "df"
   ],
   "metadata": {
    "collapsed": false,
    "ExecuteTime": {
     "end_time": "2023-11-12T01:23:59.896688Z",
     "start_time": "2023-11-12T01:23:58.910052100Z"
    }
   }
  },
  {
   "cell_type": "markdown",
   "source": [
    "Split the training set(2016-2017,2017-2018,2018-2019,2019-2020)"
   ],
   "metadata": {
    "collapsed": false
   }
  },
  {
   "cell_type": "code",
   "execution_count": 53,
   "outputs": [
    {
     "data": {
      "text/plain": "        Unnamed: 0      gamePk             homeTeam  period periodType  \\\n0                0  2017020495    Vancouver Canucks       1    REGULAR   \n1                1  2017020495    Vancouver Canucks       1    REGULAR   \n2                2  2017020495    Vancouver Canucks       1    REGULAR   \n3                3  2017020495    Vancouver Canucks       1    REGULAR   \n4                4  2017020495    Vancouver Canucks       1    REGULAR   \n...            ...         ...                  ...     ...        ...   \n379635      379635  2016020295  Nashville Predators       3    REGULAR   \n379636      379636  2016020295  Nashville Predators       3    REGULAR   \n379637      379637  2016020295  Nashville Predators       3    REGULAR   \n379638      379638  2016020295  Nashville Predators       3    REGULAR   \n379639      379639  2016020295  Nashville Predators       3    REGULAR   \n\n       periodTime periodTimeRemaining              dateTime  teamId  \\\n0           00:13               19:47  2017-12-16T03:08:32Z      23   \n1           00:14               19:46  2017-12-16T03:08:41Z      23   \n2           00:44               19:16  2017-12-16T03:09:40Z      23   \n3           01:20               18:40  2017-12-16T03:10:50Z      23   \n4           02:08               17:52  2017-12-16T03:12:03Z      23   \n...           ...                 ...                   ...     ...   \n379635      11:09               08:51  2016-11-24T03:22:15Z      18   \n379636      11:27               08:33  2016-11-24T03:23:21Z      25   \n379637      16:08               03:52  2016-11-24T03:30:46Z      25   \n379638      18:44               01:16  2016-11-24T03:36:11Z      25   \n379639      19:44               00:16  2016-11-24T03:37:53Z      18   \n\n                   teamName  ... time_last_event distance_last_event  \\\n0         Vancouver Canucks  ...            13.0           78.102497   \n1         Vancouver Canucks  ...             1.0            5.000000   \n2         Vancouver Canucks  ...            29.0           25.079872   \n3         Vancouver Canucks  ...            36.0           69.921384   \n4         Vancouver Canucks  ...             3.0           45.221676   \n...                     ...  ...             ...                 ...   \n379635  Nashville Predators  ...             2.0           31.780497   \n379636         Dallas Stars  ...            18.0           90.249654   \n379637         Dallas Stars  ...             6.0          114.017543   \n379638         Dallas Stars  ...             4.0            8.944272   \n379639  Nashville Predators  ...            16.0          144.031247   \n\n       is_rebound  Change in shot angle      Speed power_play_time n_friend  \\\n0           False              0.000000   0.000000               0        5   \n1            True             -0.348771   5.000000               0        5   \n2            True             -0.099669   0.864823              29        5   \n3           False              0.000000   1.942261               0        5   \n4            True             -0.757420  15.073892               0        5   \n...           ...                   ...        ...             ...      ...   \n379635       True              1.115501  15.890249               0        5   \n379636      False              0.000000   5.013870               0        5   \n379637       True             -1.437372  19.002924               0        5   \n379638       True             -0.377844   2.236068               0        5   \n379639      False              0.000000   9.001953               0        5   \n\n       n_oppose  year gameType  \n0             5  2017       02  \n1             5  2017       02  \n2             4  2017       02  \n3             5  2017       02  \n4             5  2017       02  \n...         ...   ...      ...  \n379635        5  2016       02  \n379636        5  2016       02  \n379637        5  2016       02  \n379638        5  2016       02  \n379639        5  2016       02  \n\n[305814 rows x 36 columns]",
      "text/html": "<div>\n<style scoped>\n    .dataframe tbody tr th:only-of-type {\n        vertical-align: middle;\n    }\n\n    .dataframe tbody tr th {\n        vertical-align: top;\n    }\n\n    .dataframe thead th {\n        text-align: right;\n    }\n</style>\n<table border=\"1\" class=\"dataframe\">\n  <thead>\n    <tr style=\"text-align: right;\">\n      <th></th>\n      <th>Unnamed: 0</th>\n      <th>gamePk</th>\n      <th>homeTeam</th>\n      <th>period</th>\n      <th>periodType</th>\n      <th>periodTime</th>\n      <th>periodTimeRemaining</th>\n      <th>dateTime</th>\n      <th>teamId</th>\n      <th>teamName</th>\n      <th>...</th>\n      <th>time_last_event</th>\n      <th>distance_last_event</th>\n      <th>is_rebound</th>\n      <th>Change in shot angle</th>\n      <th>Speed</th>\n      <th>power_play_time</th>\n      <th>n_friend</th>\n      <th>n_oppose</th>\n      <th>year</th>\n      <th>gameType</th>\n    </tr>\n  </thead>\n  <tbody>\n    <tr>\n      <th>0</th>\n      <td>0</td>\n      <td>2017020495</td>\n      <td>Vancouver Canucks</td>\n      <td>1</td>\n      <td>REGULAR</td>\n      <td>00:13</td>\n      <td>19:47</td>\n      <td>2017-12-16T03:08:32Z</td>\n      <td>23</td>\n      <td>Vancouver Canucks</td>\n      <td>...</td>\n      <td>13.0</td>\n      <td>78.102497</td>\n      <td>False</td>\n      <td>0.000000</td>\n      <td>0.000000</td>\n      <td>0</td>\n      <td>5</td>\n      <td>5</td>\n      <td>2017</td>\n      <td>02</td>\n    </tr>\n    <tr>\n      <th>1</th>\n      <td>1</td>\n      <td>2017020495</td>\n      <td>Vancouver Canucks</td>\n      <td>1</td>\n      <td>REGULAR</td>\n      <td>00:14</td>\n      <td>19:46</td>\n      <td>2017-12-16T03:08:41Z</td>\n      <td>23</td>\n      <td>Vancouver Canucks</td>\n      <td>...</td>\n      <td>1.0</td>\n      <td>5.000000</td>\n      <td>True</td>\n      <td>-0.348771</td>\n      <td>5.000000</td>\n      <td>0</td>\n      <td>5</td>\n      <td>5</td>\n      <td>2017</td>\n      <td>02</td>\n    </tr>\n    <tr>\n      <th>2</th>\n      <td>2</td>\n      <td>2017020495</td>\n      <td>Vancouver Canucks</td>\n      <td>1</td>\n      <td>REGULAR</td>\n      <td>00:44</td>\n      <td>19:16</td>\n      <td>2017-12-16T03:09:40Z</td>\n      <td>23</td>\n      <td>Vancouver Canucks</td>\n      <td>...</td>\n      <td>29.0</td>\n      <td>25.079872</td>\n      <td>True</td>\n      <td>-0.099669</td>\n      <td>0.864823</td>\n      <td>29</td>\n      <td>5</td>\n      <td>4</td>\n      <td>2017</td>\n      <td>02</td>\n    </tr>\n    <tr>\n      <th>3</th>\n      <td>3</td>\n      <td>2017020495</td>\n      <td>Vancouver Canucks</td>\n      <td>1</td>\n      <td>REGULAR</td>\n      <td>01:20</td>\n      <td>18:40</td>\n      <td>2017-12-16T03:10:50Z</td>\n      <td>23</td>\n      <td>Vancouver Canucks</td>\n      <td>...</td>\n      <td>36.0</td>\n      <td>69.921384</td>\n      <td>False</td>\n      <td>0.000000</td>\n      <td>1.942261</td>\n      <td>0</td>\n      <td>5</td>\n      <td>5</td>\n      <td>2017</td>\n      <td>02</td>\n    </tr>\n    <tr>\n      <th>4</th>\n      <td>4</td>\n      <td>2017020495</td>\n      <td>Vancouver Canucks</td>\n      <td>1</td>\n      <td>REGULAR</td>\n      <td>02:08</td>\n      <td>17:52</td>\n      <td>2017-12-16T03:12:03Z</td>\n      <td>23</td>\n      <td>Vancouver Canucks</td>\n      <td>...</td>\n      <td>3.0</td>\n      <td>45.221676</td>\n      <td>True</td>\n      <td>-0.757420</td>\n      <td>15.073892</td>\n      <td>0</td>\n      <td>5</td>\n      <td>5</td>\n      <td>2017</td>\n      <td>02</td>\n    </tr>\n    <tr>\n      <th>...</th>\n      <td>...</td>\n      <td>...</td>\n      <td>...</td>\n      <td>...</td>\n      <td>...</td>\n      <td>...</td>\n      <td>...</td>\n      <td>...</td>\n      <td>...</td>\n      <td>...</td>\n      <td>...</td>\n      <td>...</td>\n      <td>...</td>\n      <td>...</td>\n      <td>...</td>\n      <td>...</td>\n      <td>...</td>\n      <td>...</td>\n      <td>...</td>\n      <td>...</td>\n      <td>...</td>\n    </tr>\n    <tr>\n      <th>379635</th>\n      <td>379635</td>\n      <td>2016020295</td>\n      <td>Nashville Predators</td>\n      <td>3</td>\n      <td>REGULAR</td>\n      <td>11:09</td>\n      <td>08:51</td>\n      <td>2016-11-24T03:22:15Z</td>\n      <td>18</td>\n      <td>Nashville Predators</td>\n      <td>...</td>\n      <td>2.0</td>\n      <td>31.780497</td>\n      <td>True</td>\n      <td>1.115501</td>\n      <td>15.890249</td>\n      <td>0</td>\n      <td>5</td>\n      <td>5</td>\n      <td>2016</td>\n      <td>02</td>\n    </tr>\n    <tr>\n      <th>379636</th>\n      <td>379636</td>\n      <td>2016020295</td>\n      <td>Nashville Predators</td>\n      <td>3</td>\n      <td>REGULAR</td>\n      <td>11:27</td>\n      <td>08:33</td>\n      <td>2016-11-24T03:23:21Z</td>\n      <td>25</td>\n      <td>Dallas Stars</td>\n      <td>...</td>\n      <td>18.0</td>\n      <td>90.249654</td>\n      <td>False</td>\n      <td>0.000000</td>\n      <td>5.013870</td>\n      <td>0</td>\n      <td>5</td>\n      <td>5</td>\n      <td>2016</td>\n      <td>02</td>\n    </tr>\n    <tr>\n      <th>379637</th>\n      <td>379637</td>\n      <td>2016020295</td>\n      <td>Nashville Predators</td>\n      <td>3</td>\n      <td>REGULAR</td>\n      <td>16:08</td>\n      <td>03:52</td>\n      <td>2016-11-24T03:30:46Z</td>\n      <td>25</td>\n      <td>Dallas Stars</td>\n      <td>...</td>\n      <td>6.0</td>\n      <td>114.017543</td>\n      <td>True</td>\n      <td>-1.437372</td>\n      <td>19.002924</td>\n      <td>0</td>\n      <td>5</td>\n      <td>5</td>\n      <td>2016</td>\n      <td>02</td>\n    </tr>\n    <tr>\n      <th>379638</th>\n      <td>379638</td>\n      <td>2016020295</td>\n      <td>Nashville Predators</td>\n      <td>3</td>\n      <td>REGULAR</td>\n      <td>18:44</td>\n      <td>01:16</td>\n      <td>2016-11-24T03:36:11Z</td>\n      <td>25</td>\n      <td>Dallas Stars</td>\n      <td>...</td>\n      <td>4.0</td>\n      <td>8.944272</td>\n      <td>True</td>\n      <td>-0.377844</td>\n      <td>2.236068</td>\n      <td>0</td>\n      <td>5</td>\n      <td>5</td>\n      <td>2016</td>\n      <td>02</td>\n    </tr>\n    <tr>\n      <th>379639</th>\n      <td>379639</td>\n      <td>2016020295</td>\n      <td>Nashville Predators</td>\n      <td>3</td>\n      <td>REGULAR</td>\n      <td>19:44</td>\n      <td>00:16</td>\n      <td>2016-11-24T03:37:53Z</td>\n      <td>18</td>\n      <td>Nashville Predators</td>\n      <td>...</td>\n      <td>16.0</td>\n      <td>144.031247</td>\n      <td>False</td>\n      <td>0.000000</td>\n      <td>9.001953</td>\n      <td>0</td>\n      <td>5</td>\n      <td>5</td>\n      <td>2016</td>\n      <td>02</td>\n    </tr>\n  </tbody>\n</table>\n<p>305814 rows × 36 columns</p>\n</div>"
     },
     "execution_count": 53,
     "metadata": {},
     "output_type": "execute_result"
    }
   ],
   "source": [
    "df['year'] = df['gamePk'].astype(str).str[:4].astype(int)\n",
    "df['gameType'] = df['gamePk'].astype(str).str[4:6]\n",
    "train = df[(df['year'].isin([2016, 2017, 2018, 2019])) & (df['gameType'] == '02')]\n",
    "test_regular = df[(df['year'].isin([2020])) & (df['gameType'] == '02')]\n",
    "test_playoffs = df[(df['year'].isin([2020])) & (df['gameType'] == '03')]\n",
    "train"
   ],
   "metadata": {
    "collapsed": false,
    "ExecuteTime": {
     "end_time": "2023-11-12T01:24:00.247904700Z",
     "start_time": "2023-11-12T01:23:59.897685100Z"
    }
   }
  },
  {
   "cell_type": "markdown",
   "source": [
    "Extract the features and the label"
   ],
   "metadata": {
    "collapsed": false
   }
  },
  {
   "cell_type": "code",
   "execution_count": 54,
   "outputs": [
    {
     "name": "stderr",
     "output_type": "stream",
     "text": [
      "C:\\Users\\Shilong Zhou\\AppData\\Local\\Temp\\ipykernel_23820\\2349418554.py:3: SettingWithCopyWarning: \n",
      "A value is trying to be set on a copy of a slice from a DataFrame.\n",
      "Try using .loc[row_indexer,col_indexer] = value instead\n",
      "\n",
      "See the caveats in the documentation: https://pandas.pydata.org/pandas-docs/stable/user_guide/indexing.html#returning-a-view-versus-a-copy\n",
      "  f_train['is_rebound'] = f_train['is_rebound'].astype(int)\n"
     ]
    },
    {
     "data": {
      "text/plain": "        x-coordinate  y-coordinate  shot_distance     angle  \\\n0              -78.0           4.0      11.704700  0.348771   \n1              -81.0           0.0       8.000000  0.000000   \n2              -79.0          -1.0      10.049876 -0.099669   \n3              -67.0          20.0      29.732137  0.737815   \n4              -38.0          -1.0      51.009803 -0.019605   \n...              ...           ...            ...       ...   \n379635          81.0           5.0       9.433981  0.558599   \n379636         -84.0          33.0      33.376639  1.420425   \n379637         -30.0          -1.0      59.008474 -0.016948   \n379638         -77.0          -5.0      13.000000 -0.394791   \n379639          52.0           9.0      38.078866  0.238609   \n\n        coor_x_last_event  coor_y_last_event  distance_last_event  is_rebound  \\\n0                     0.0                0.0            78.102497           0   \n1                   -78.0                4.0             5.000000           1   \n2                   -69.0               22.0            25.079872           1   \n3                     0.0                0.0            69.921384           0   \n4                   -64.0               36.0            45.221676           1   \n...                   ...                ...                  ...         ...   \n379635               50.0               12.0            31.780497           1   \n379636                0.0                0.0            90.249654           0   \n379637               84.0                1.0           114.017543           1   \n379638              -81.0                3.0             8.944272           1   \n379639              -92.0                6.0           144.031247           0   \n\n        Change in shot angle      Speed  power_play_time  n_friend  n_oppose  \n0                   0.000000   0.000000                0         5         5  \n1                  -0.348771   5.000000                0         5         5  \n2                  -0.099669   0.864823               29         5         4  \n3                   0.000000   1.942261                0         5         5  \n4                  -0.757420  15.073892                0         5         5  \n...                      ...        ...              ...       ...       ...  \n379635              1.115501  15.890249                0         5         5  \n379636              0.000000   5.013870                0         5         5  \n379637             -1.437372  19.002924                0         5         5  \n379638             -0.377844   2.236068                0         5         5  \n379639              0.000000   9.001953                0         5         5  \n\n[305814 rows x 13 columns]",
      "text/html": "<div>\n<style scoped>\n    .dataframe tbody tr th:only-of-type {\n        vertical-align: middle;\n    }\n\n    .dataframe tbody tr th {\n        vertical-align: top;\n    }\n\n    .dataframe thead th {\n        text-align: right;\n    }\n</style>\n<table border=\"1\" class=\"dataframe\">\n  <thead>\n    <tr style=\"text-align: right;\">\n      <th></th>\n      <th>x-coordinate</th>\n      <th>y-coordinate</th>\n      <th>shot_distance</th>\n      <th>angle</th>\n      <th>coor_x_last_event</th>\n      <th>coor_y_last_event</th>\n      <th>distance_last_event</th>\n      <th>is_rebound</th>\n      <th>Change in shot angle</th>\n      <th>Speed</th>\n      <th>power_play_time</th>\n      <th>n_friend</th>\n      <th>n_oppose</th>\n    </tr>\n  </thead>\n  <tbody>\n    <tr>\n      <th>0</th>\n      <td>-78.0</td>\n      <td>4.0</td>\n      <td>11.704700</td>\n      <td>0.348771</td>\n      <td>0.0</td>\n      <td>0.0</td>\n      <td>78.102497</td>\n      <td>0</td>\n      <td>0.000000</td>\n      <td>0.000000</td>\n      <td>0</td>\n      <td>5</td>\n      <td>5</td>\n    </tr>\n    <tr>\n      <th>1</th>\n      <td>-81.0</td>\n      <td>0.0</td>\n      <td>8.000000</td>\n      <td>0.000000</td>\n      <td>-78.0</td>\n      <td>4.0</td>\n      <td>5.000000</td>\n      <td>1</td>\n      <td>-0.348771</td>\n      <td>5.000000</td>\n      <td>0</td>\n      <td>5</td>\n      <td>5</td>\n    </tr>\n    <tr>\n      <th>2</th>\n      <td>-79.0</td>\n      <td>-1.0</td>\n      <td>10.049876</td>\n      <td>-0.099669</td>\n      <td>-69.0</td>\n      <td>22.0</td>\n      <td>25.079872</td>\n      <td>1</td>\n      <td>-0.099669</td>\n      <td>0.864823</td>\n      <td>29</td>\n      <td>5</td>\n      <td>4</td>\n    </tr>\n    <tr>\n      <th>3</th>\n      <td>-67.0</td>\n      <td>20.0</td>\n      <td>29.732137</td>\n      <td>0.737815</td>\n      <td>0.0</td>\n      <td>0.0</td>\n      <td>69.921384</td>\n      <td>0</td>\n      <td>0.000000</td>\n      <td>1.942261</td>\n      <td>0</td>\n      <td>5</td>\n      <td>5</td>\n    </tr>\n    <tr>\n      <th>4</th>\n      <td>-38.0</td>\n      <td>-1.0</td>\n      <td>51.009803</td>\n      <td>-0.019605</td>\n      <td>-64.0</td>\n      <td>36.0</td>\n      <td>45.221676</td>\n      <td>1</td>\n      <td>-0.757420</td>\n      <td>15.073892</td>\n      <td>0</td>\n      <td>5</td>\n      <td>5</td>\n    </tr>\n    <tr>\n      <th>...</th>\n      <td>...</td>\n      <td>...</td>\n      <td>...</td>\n      <td>...</td>\n      <td>...</td>\n      <td>...</td>\n      <td>...</td>\n      <td>...</td>\n      <td>...</td>\n      <td>...</td>\n      <td>...</td>\n      <td>...</td>\n      <td>...</td>\n    </tr>\n    <tr>\n      <th>379635</th>\n      <td>81.0</td>\n      <td>5.0</td>\n      <td>9.433981</td>\n      <td>0.558599</td>\n      <td>50.0</td>\n      <td>12.0</td>\n      <td>31.780497</td>\n      <td>1</td>\n      <td>1.115501</td>\n      <td>15.890249</td>\n      <td>0</td>\n      <td>5</td>\n      <td>5</td>\n    </tr>\n    <tr>\n      <th>379636</th>\n      <td>-84.0</td>\n      <td>33.0</td>\n      <td>33.376639</td>\n      <td>1.420425</td>\n      <td>0.0</td>\n      <td>0.0</td>\n      <td>90.249654</td>\n      <td>0</td>\n      <td>0.000000</td>\n      <td>5.013870</td>\n      <td>0</td>\n      <td>5</td>\n      <td>5</td>\n    </tr>\n    <tr>\n      <th>379637</th>\n      <td>-30.0</td>\n      <td>-1.0</td>\n      <td>59.008474</td>\n      <td>-0.016948</td>\n      <td>84.0</td>\n      <td>1.0</td>\n      <td>114.017543</td>\n      <td>1</td>\n      <td>-1.437372</td>\n      <td>19.002924</td>\n      <td>0</td>\n      <td>5</td>\n      <td>5</td>\n    </tr>\n    <tr>\n      <th>379638</th>\n      <td>-77.0</td>\n      <td>-5.0</td>\n      <td>13.000000</td>\n      <td>-0.394791</td>\n      <td>-81.0</td>\n      <td>3.0</td>\n      <td>8.944272</td>\n      <td>1</td>\n      <td>-0.377844</td>\n      <td>2.236068</td>\n      <td>0</td>\n      <td>5</td>\n      <td>5</td>\n    </tr>\n    <tr>\n      <th>379639</th>\n      <td>52.0</td>\n      <td>9.0</td>\n      <td>38.078866</td>\n      <td>0.238609</td>\n      <td>-92.0</td>\n      <td>6.0</td>\n      <td>144.031247</td>\n      <td>0</td>\n      <td>0.000000</td>\n      <td>9.001953</td>\n      <td>0</td>\n      <td>5</td>\n      <td>5</td>\n    </tr>\n  </tbody>\n</table>\n<p>305814 rows × 13 columns</p>\n</div>"
     },
     "execution_count": 54,
     "metadata": {},
     "output_type": "execute_result"
    }
   ],
   "source": [
    "f_train = train[['period', 'x-coordinate', 'y-coordinate', 'shot_distance', 'angle', 'shotType', 'last_event_type', 'coor_x_last_event', 'coor_y_last_event',\n",
    "                 'time_last_event', 'distance_last_event', 'is_rebound', 'Change in shot angle', 'Speed', 'power_play_time', 'n_friend', 'n_oppose']]\n",
    "f_train['is_rebound'] = f_train['is_rebound'].astype(int)\n",
    "f_train"
   ],
   "metadata": {
    "collapsed": false,
    "ExecuteTime": {
     "end_time": "2023-11-12T01:24:00.263789800Z",
     "start_time": "2023-11-12T01:24:00.247904700Z"
    }
   }
  },
  {
   "cell_type": "code",
   "execution_count": 55,
   "outputs": [
    {
     "data": {
      "text/plain": "0         0\n1         0\n2         1\n3         0\n4         0\n         ..\n379635    1\n379636    0\n379637    0\n379638    1\n379639    1\nName: isgoal, Length: 305814, dtype: int64"
     },
     "execution_count": 55,
     "metadata": {},
     "output_type": "execute_result"
    }
   ],
   "source": [
    "l_train = train['isgoal']\n",
    "l_train"
   ],
   "metadata": {
    "collapsed": false,
    "ExecuteTime": {
     "end_time": "2023-11-12T01:24:00.267957100Z",
     "start_time": "2023-11-12T01:24:00.263789800Z"
    }
   }
  },
  {
   "cell_type": "markdown",
   "source": [
    "Spilt train set into train and validation set"
   ],
   "metadata": {
    "collapsed": false
   }
  },
  {
   "cell_type": "code",
   "execution_count": 56,
   "outputs": [],
   "source": [
    "x_train, x_val, y_train, y_val = train_test_split(f_train.fillna(0),l_train, test_size=0.25,random_state=10, shuffle = True, stratify=l_train.to_numpy())"
   ],
   "metadata": {
    "collapsed": false,
    "ExecuteTime": {
     "end_time": "2023-11-12T01:24:00.376544Z",
     "start_time": "2023-11-12T01:24:00.267957100Z"
    }
   }
  },
  {
   "cell_type": "code",
   "execution_count": 57,
   "outputs": [
    {
     "data": {
      "text/plain": "<Axes: xlabel='isgoal', ylabel='count'>"
     },
     "execution_count": 57,
     "metadata": {},
     "output_type": "execute_result"
    },
    {
     "data": {
      "text/plain": "<Figure size 640x480 with 1 Axes>",
      "image/png": "[encoded data removed]"
     },
     "metadata": {},
     "output_type": "display_data"
    }
   ],
   "source": [
    "sn.countplot(x = 'isgoal', data = train)"
   ],
   "metadata": {
    "collapsed": false,
    "ExecuteTime": {
     "end_time": "2023-11-12T01:24:00.652742200Z",
     "start_time": "2023-11-12T01:24:00.363764400Z"
    }
   }
  },
  {
   "cell_type": "markdown",
   "source": [
    "KNN Pipeline"
   ],
   "metadata": {
    "collapsed": false
   }
  },
  {
   "cell_type": "code",
   "execution_count": 58,
   "outputs": [],
   "source": [
    "# Define preprocessing steps\n",
    "numeric_features = make_column_selector(dtype_include='float')\n",
    "numeric_transformer = Pipeline(steps=[\n",
    "    ('imputer', SimpleImputer(strategy='mean')),\n",
    "    ('scaler', StandardScaler())\n",
    "])\n",
    "\n",
    "# Create a preprocessor\n",
    "preprocessor = ColumnTransformer(\n",
    "    transformers=[\n",
    "        ('num', numeric_transformer, numeric_features)\n",
    "    ])\n",
    "\n",
    "# Create KNN classifier\n",
    "knn_classifier = KNeighborsClassifier(n_neighbors=3)\n",
    "\n",
    "# Create the pipeline\n",
    "pipeline = Pipeline(steps=[\n",
    "    ('preprocessor', preprocessor),\n",
    "    ('classifier', knn_classifier)\n",
    "])\n"
   ],
   "metadata": {
    "collapsed": false,
    "ExecuteTime": {
     "end_time": "2023-11-12T01:24:00.652742200Z",
     "start_time": "2023-11-12T01:24:00.652742200Z"
    }
   }
  },
  {
   "cell_type": "markdown",
   "source": [
    "Train model"
   ],
   "metadata": {
    "collapsed": false
   }
  },
  {
   "cell_type": "code",
   "execution_count": 59,
   "outputs": [
    {
     "name": "stdout",
     "output_type": "stream",
     "text": [
      "Best Hyperparameters: {'classifier__n_neighbors': 9, 'classifier__p': 1, 'classifier__weights': 'uniform'}\n",
      "Cross-Validation ROC-AUC scores: [0.51081786 0.5095766  0.51018838 0.51199966 0.51012174]\n",
      "Mean CV ROC-AUC: 0.51\n",
      "Validation Accuracy: 0.90\n",
      "              precision    recall  f1-score   support\n",
      "\n",
      "           0       0.91      0.99      0.95     69196\n",
      "           1       0.29      0.03      0.05      7258\n",
      "\n",
      "    accuracy                           0.90     76454\n",
      "   macro avg       0.60      0.51      0.50     76454\n",
      "weighted avg       0.85      0.90      0.86     76454\n",
      "\n"
     ]
    }
   ],
   "source": [
    "# Define the parameter grid for Grid Search\n",
    "param_grid = {\n",
    "    'classifier__n_neighbors': [3, 5, 7, 9],\n",
    "    'classifier__weights': ['uniform', 'distance'],\n",
    "    'classifier__p': [1, 2]\n",
    "}\n",
    "\n",
    "# Use StratifiedKFold for cross-validation\n",
    "cv_strategy = StratifiedKFold(n_splits=5, shuffle=True, random_state=42)\n",
    "\n",
    "# Use ROC-AUC as a scoring metric\n",
    "scorer = make_scorer(roc_auc_score)\n",
    "\n",
    "# Perform Grid Search\n",
    "grid_search = GridSearchCV(pipeline, param_grid, cv=5, scoring='accuracy', n_jobs=-1)\n",
    "grid_search.fit(x_train, y_train)\n",
    "\n",
    "# Get the best parameters and estimator\n",
    "best_params = grid_search.best_params_\n",
    "best_estimator = grid_search.best_estimator_\n",
    "print(f'Best Hyperparameters: {best_params}')\n",
    "\n",
    "# Perform cross-validation with the best estimator\n",
    "cv_scores = cross_val_score(best_estimator, x_train, y_train, cv=cv_strategy, scoring=scorer, n_jobs=-1)\n",
    "print(f'Cross-Validation ROC-AUC scores: {cv_scores}')\n",
    "print(f'Mean CV ROC-AUC: {np.mean(cv_scores):.2f}')\n",
    "\n",
    "# Fit the model with the best estimator on the training data\n",
    "best_estimator.fit(x_train, y_train)\n",
    "\n",
    "# Make predictions on the validation set\n",
    "y_pred_val = best_estimator.predict(x_val)\n",
    "\n",
    "# Evaluate the model on the validation set\n",
    "accuracy_val = accuracy_score(y_val, y_pred_val)\n",
    "print(f'Validation Accuracy: {accuracy_val:.2f}')\n",
    "\n",
    "# Print other metrics like classification report\n",
    "print(classification_report(y_val, y_pred_val))"
   ],
   "metadata": {
    "collapsed": false,
    "ExecuteTime": {
     "end_time": "2023-11-12T01:25:12.818317600Z",
     "start_time": "2023-11-12T01:24:00.653739200Z"
    }
   }
  },
  {
   "cell_type": "markdown",
   "source": [
    "I have chosen the KNN model, which is an instance-based learning method that predicts based on the distances between samples.\n",
    "\n",
    "**Feature Selection**:\n",
    "I selected a set of features for modeling, including coordinate information, shot distance, angle, etc.\n",
    "\n",
    "**Training Data Split**:\n",
    "I utilized a basic random splitting method.\n",
    "\n",
    "**Hyperparameter Tuning and Cross-Validation**:\n",
    "I employed Grid Search to adjust the hyperparameters of the KNN model, considering different numbers of neighbors, weightings, and distance metrics.\n",
    "\n",
    "**Regularization**:\n",
    "In the context of the KNN model, regularization is generally not applied as the model itself lacks parameters that need regularization.\n",
    "\n",
    "**Explore More Novel Metrics for This Task**:\n",
    "I used ROC-AUC and accuracy as performance metrics."
   ],
   "metadata": {
    "collapsed": false
   }
  },
  {
   "cell_type": "code",
   "execution_count": null,
   "outputs": [],
   "source": [],
   "metadata": {
    "collapsed": false
   }
  }
 ],
 "metadata": {
  "kernelspec": {
   "display_name": "Python 3",
   "language": "python",
   "name": "python3"
  },
  "language_info": {
   "codemirror_mode": {
    "name": "ipython",
    "version": 2
   },
   "file_extension": ".py",
   "mimetype": "text/x-python",
   "name": "python",
   "nbconvert_exporter": "python",
   "pygments_lexer": "ipython2",
   "version": "2.7.6"
  }
 },
 "nbformat": 4,
 "nbformat_minor": 0
}
