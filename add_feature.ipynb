{
 "cells": [
  {
   "cell_type": "code",
   "execution_count": 8,
   "metadata": {
    "collapsed": true,
    "ExecuteTime": {
     "end_time": "2023-11-13T00:15:35.597164600Z",
     "start_time": "2023-11-13T00:15:34.640357300Z"
    }
   },
   "outputs": [
    {
     "data": {
      "text/plain": "       Unnamed: 0      gamePk             homeTeam  period periodType  \\\n74028       74028  2017021065  Washington Capitals       1    REGULAR   \n74029       74029  2017021065  Washington Capitals       1    REGULAR   \n74030       74030  2017021065  Washington Capitals       1    REGULAR   \n74031       74031  2017021065  Washington Capitals       1    REGULAR   \n74032       74032  2017021065  Washington Capitals       1    REGULAR   \n...           ...         ...                  ...     ...        ...   \n74094       74094  2017021065  Washington Capitals       4   OVERTIME   \n74095       74095  2017021065  Washington Capitals       4   OVERTIME   \n74096       74096  2017021065  Washington Capitals       4   OVERTIME   \n74097       74097  2017021065  Washington Capitals       4   OVERTIME   \n74098       74098  2017021065  Washington Capitals       4   OVERTIME   \n\n      periodTime periodTimeRemaining              dateTime  teamId  \\\n74028      01:51               18:09  2018-03-12T23:11:06Z      15   \n74029      01:55               18:05  2018-03-12T23:11:11Z      15   \n74030      02:04               17:56  2018-03-12T23:11:55Z      52   \n74031      02:31               17:29  2018-03-12T23:12:22Z      15   \n74032      02:39               17:21  2018-03-12T23:12:30Z      52   \n...          ...                 ...                   ...     ...   \n74094      01:35               03:25  2018-03-13T01:46:55Z      15   \n74095      01:46               03:14  2018-03-13T01:47:06Z      15   \n74096      02:14               02:46  2018-03-13T01:47:34Z      15   \n74097      03:27               01:33  2018-03-13T01:49:14Z      15   \n74098      04:11               00:49  2018-03-13T01:50:50Z      15   \n\n                  teamName  ... coor_x_last_event coor_y_last_event  \\\n74028  Washington Capitals  ...              72.0              37.0   \n74029  Washington Capitals  ...             -50.0              36.0   \n74030        Winnipeg Jets  ...             -39.0             -28.0   \n74031  Washington Capitals  ...              10.0              38.0   \n74032        Winnipeg Jets  ...             -29.0              -6.0   \n...                    ...  ...               ...               ...   \n74094  Washington Capitals  ...              76.0              -5.0   \n74095  Washington Capitals  ...              71.0              -8.0   \n74096  Washington Capitals  ...             -61.0             -32.0   \n74097  Washington Capitals  ...              57.0             -12.0   \n74098  Washington Capitals  ...              69.0              22.0   \n\n      time_last_event  distance_last_event  is_rebound Change in shot angle  \\\n74028            11.0           122.004098       False             0.000000   \n74029             4.0            70.327804        True            -2.157561   \n74030             1.0           112.641023        True             0.626743   \n74031             5.0            58.796258        True             0.685730   \n74032             8.0            59.059292        True            -0.376027   \n...               ...                  ...         ...                  ...   \n74094             7.0             5.830952        True            -0.051050   \n74095            11.0            22.203603        True             0.730266   \n74096            14.0           132.913506        True             0.358479   \n74097             2.0            21.400935        True            -0.603953   \n74098            43.0            21.587033        True             0.000000   \n\n            Speed power_play_time  n_friend n_oppose  \n74028   11.091282               0         5        5  \n74029   17.581951               0         5        5  \n74030  112.641023               0         5        5  \n74031   11.759252               0         5        5  \n74032    7.382412               0         5        5  \n...           ...             ...       ...      ...  \n74094    0.832993              76         5        4  \n74095    2.018509              87         5        4  \n74096    9.493822             115         5        4  \n74097   10.700467               0         5        5  \n74098    0.502024               0         5        5  \n\n[71 rows x 34 columns]",
      "text/html": "<div>\n<style scoped>\n    .dataframe tbody tr th:only-of-type {\n        vertical-align: middle;\n    }\n\n    .dataframe tbody tr th {\n        vertical-align: top;\n    }\n\n    .dataframe thead th {\n        text-align: right;\n    }\n</style>\n<table border=\"1\" class=\"dataframe\">\n  <thead>\n    <tr style=\"text-align: right;\">\n      <th></th>\n      <th>Unnamed: 0</th>\n      <th>gamePk</th>\n      <th>homeTeam</th>\n      <th>period</th>\n      <th>periodType</th>\n      <th>periodTime</th>\n      <th>periodTimeRemaining</th>\n      <th>dateTime</th>\n      <th>teamId</th>\n      <th>teamName</th>\n      <th>...</th>\n      <th>coor_x_last_event</th>\n      <th>coor_y_last_event</th>\n      <th>time_last_event</th>\n      <th>distance_last_event</th>\n      <th>is_rebound</th>\n      <th>Change in shot angle</th>\n      <th>Speed</th>\n      <th>power_play_time</th>\n      <th>n_friend</th>\n      <th>n_oppose</th>\n    </tr>\n  </thead>\n  <tbody>\n    <tr>\n      <th>74028</th>\n      <td>74028</td>\n      <td>2017021065</td>\n      <td>Washington Capitals</td>\n      <td>1</td>\n      <td>REGULAR</td>\n      <td>01:51</td>\n      <td>18:09</td>\n      <td>2018-03-12T23:11:06Z</td>\n      <td>15</td>\n      <td>Washington Capitals</td>\n      <td>...</td>\n      <td>72.0</td>\n      <td>37.0</td>\n      <td>11.0</td>\n      <td>122.004098</td>\n      <td>False</td>\n      <td>0.000000</td>\n      <td>11.091282</td>\n      <td>0</td>\n      <td>5</td>\n      <td>5</td>\n    </tr>\n    <tr>\n      <th>74029</th>\n      <td>74029</td>\n      <td>2017021065</td>\n      <td>Washington Capitals</td>\n      <td>1</td>\n      <td>REGULAR</td>\n      <td>01:55</td>\n      <td>18:05</td>\n      <td>2018-03-12T23:11:11Z</td>\n      <td>15</td>\n      <td>Washington Capitals</td>\n      <td>...</td>\n      <td>-50.0</td>\n      <td>36.0</td>\n      <td>4.0</td>\n      <td>70.327804</td>\n      <td>True</td>\n      <td>-2.157561</td>\n      <td>17.581951</td>\n      <td>0</td>\n      <td>5</td>\n      <td>5</td>\n    </tr>\n    <tr>\n      <th>74030</th>\n      <td>74030</td>\n      <td>2017021065</td>\n      <td>Washington Capitals</td>\n      <td>1</td>\n      <td>REGULAR</td>\n      <td>02:04</td>\n      <td>17:56</td>\n      <td>2018-03-12T23:11:55Z</td>\n      <td>52</td>\n      <td>Winnipeg Jets</td>\n      <td>...</td>\n      <td>-39.0</td>\n      <td>-28.0</td>\n      <td>1.0</td>\n      <td>112.641023</td>\n      <td>True</td>\n      <td>0.626743</td>\n      <td>112.641023</td>\n      <td>0</td>\n      <td>5</td>\n      <td>5</td>\n    </tr>\n    <tr>\n      <th>74031</th>\n      <td>74031</td>\n      <td>2017021065</td>\n      <td>Washington Capitals</td>\n      <td>1</td>\n      <td>REGULAR</td>\n      <td>02:31</td>\n      <td>17:29</td>\n      <td>2018-03-12T23:12:22Z</td>\n      <td>15</td>\n      <td>Washington Capitals</td>\n      <td>...</td>\n      <td>10.0</td>\n      <td>38.0</td>\n      <td>5.0</td>\n      <td>58.796258</td>\n      <td>True</td>\n      <td>0.685730</td>\n      <td>11.759252</td>\n      <td>0</td>\n      <td>5</td>\n      <td>5</td>\n    </tr>\n    <tr>\n      <th>74032</th>\n      <td>74032</td>\n      <td>2017021065</td>\n      <td>Washington Capitals</td>\n      <td>1</td>\n      <td>REGULAR</td>\n      <td>02:39</td>\n      <td>17:21</td>\n      <td>2018-03-12T23:12:30Z</td>\n      <td>52</td>\n      <td>Winnipeg Jets</td>\n      <td>...</td>\n      <td>-29.0</td>\n      <td>-6.0</td>\n      <td>8.0</td>\n      <td>59.059292</td>\n      <td>True</td>\n      <td>-0.376027</td>\n      <td>7.382412</td>\n      <td>0</td>\n      <td>5</td>\n      <td>5</td>\n    </tr>\n    <tr>\n      <th>...</th>\n      <td>...</td>\n      <td>...</td>\n      <td>...</td>\n      <td>...</td>\n      <td>...</td>\n      <td>...</td>\n      <td>...</td>\n      <td>...</td>\n      <td>...</td>\n      <td>...</td>\n      <td>...</td>\n      <td>...</td>\n      <td>...</td>\n      <td>...</td>\n      <td>...</td>\n      <td>...</td>\n      <td>...</td>\n      <td>...</td>\n      <td>...</td>\n      <td>...</td>\n      <td>...</td>\n    </tr>\n    <tr>\n      <th>74094</th>\n      <td>74094</td>\n      <td>2017021065</td>\n      <td>Washington Capitals</td>\n      <td>4</td>\n      <td>OVERTIME</td>\n      <td>01:35</td>\n      <td>03:25</td>\n      <td>2018-03-13T01:46:55Z</td>\n      <td>15</td>\n      <td>Washington Capitals</td>\n      <td>...</td>\n      <td>76.0</td>\n      <td>-5.0</td>\n      <td>7.0</td>\n      <td>5.830952</td>\n      <td>True</td>\n      <td>-0.051050</td>\n      <td>0.832993</td>\n      <td>76</td>\n      <td>5</td>\n      <td>4</td>\n    </tr>\n    <tr>\n      <th>74095</th>\n      <td>74095</td>\n      <td>2017021065</td>\n      <td>Washington Capitals</td>\n      <td>4</td>\n      <td>OVERTIME</td>\n      <td>01:46</td>\n      <td>03:14</td>\n      <td>2018-03-13T01:47:06Z</td>\n      <td>15</td>\n      <td>Washington Capitals</td>\n      <td>...</td>\n      <td>71.0</td>\n      <td>-8.0</td>\n      <td>11.0</td>\n      <td>22.203603</td>\n      <td>True</td>\n      <td>0.730266</td>\n      <td>2.018509</td>\n      <td>87</td>\n      <td>5</td>\n      <td>4</td>\n    </tr>\n    <tr>\n      <th>74096</th>\n      <td>74096</td>\n      <td>2017021065</td>\n      <td>Washington Capitals</td>\n      <td>4</td>\n      <td>OVERTIME</td>\n      <td>02:14</td>\n      <td>02:46</td>\n      <td>2018-03-13T01:47:34Z</td>\n      <td>15</td>\n      <td>Washington Capitals</td>\n      <td>...</td>\n      <td>-61.0</td>\n      <td>-32.0</td>\n      <td>14.0</td>\n      <td>132.913506</td>\n      <td>True</td>\n      <td>0.358479</td>\n      <td>9.493822</td>\n      <td>115</td>\n      <td>5</td>\n      <td>4</td>\n    </tr>\n    <tr>\n      <th>74097</th>\n      <td>74097</td>\n      <td>2017021065</td>\n      <td>Washington Capitals</td>\n      <td>4</td>\n      <td>OVERTIME</td>\n      <td>03:27</td>\n      <td>01:33</td>\n      <td>2018-03-13T01:49:14Z</td>\n      <td>15</td>\n      <td>Washington Capitals</td>\n      <td>...</td>\n      <td>57.0</td>\n      <td>-12.0</td>\n      <td>2.0</td>\n      <td>21.400935</td>\n      <td>True</td>\n      <td>-0.603953</td>\n      <td>10.700467</td>\n      <td>0</td>\n      <td>5</td>\n      <td>5</td>\n    </tr>\n    <tr>\n      <th>74098</th>\n      <td>74098</td>\n      <td>2017021065</td>\n      <td>Washington Capitals</td>\n      <td>4</td>\n      <td>OVERTIME</td>\n      <td>04:11</td>\n      <td>00:49</td>\n      <td>2018-03-13T01:50:50Z</td>\n      <td>15</td>\n      <td>Washington Capitals</td>\n      <td>...</td>\n      <td>69.0</td>\n      <td>22.0</td>\n      <td>43.0</td>\n      <td>21.587033</td>\n      <td>True</td>\n      <td>0.000000</td>\n      <td>0.502024</td>\n      <td>0</td>\n      <td>5</td>\n      <td>5</td>\n    </tr>\n  </tbody>\n</table>\n<p>71 rows × 34 columns</p>\n</div>"
     },
     "execution_count": 8,
     "metadata": {},
     "output_type": "execute_result"
    }
   ],
   "source": [
    "import pandas as pd\n",
    "import os\n",
    "\n",
    "# get the tidy data path\n",
    "TIDY_DATA_PATH = 'Dataset/feature_engineering2.csv'\n",
    "\n",
    "df = pd.read_csv(TIDY_DATA_PATH)\n",
    "result = df[df['gamePk'] == 2017021065]\n",
    "result"
   ]
  },
  {
   "cell_type": "code",
   "execution_count": 2,
   "outputs": [
    {
     "data": {
      "text/plain": "   Unnamed: 0      gamePk           homeTeam  period periodType periodTime  \\\n0           0  2017020495  Vancouver Canucks       1    REGULAR      00:13   \n1           1  2017020495  Vancouver Canucks       1    REGULAR      00:14   \n2           2  2017020495  Vancouver Canucks       1    REGULAR      00:44   \n3           3  2017020495  Vancouver Canucks       1    REGULAR      01:20   \n4           4  2017020495  Vancouver Canucks       1    REGULAR      02:08   \n\n  periodTimeRemaining              dateTime  teamId           teamName  ...  \\\n0               19:47  2017-12-16T03:08:32Z      23  Vancouver Canucks  ...   \n1               19:46  2017-12-16T03:08:41Z      23  Vancouver Canucks  ...   \n2               19:16  2017-12-16T03:09:40Z      23  Vancouver Canucks  ...   \n3               18:40  2017-12-16T03:10:50Z      23  Vancouver Canucks  ...   \n4               17:52  2017-12-16T03:12:03Z      23  Vancouver Canucks  ...   \n\n      angle isgoal last_event_type  coor_x_last_event  coor_y_last_event  \\\n0  0.348771      0         Faceoff                0.0                0.0   \n1  0.000000      0            Shot              -78.0                4.0   \n2 -0.099669      1         Faceoff              -69.0               22.0   \n3  0.737815      0         Faceoff                0.0                0.0   \n4 -0.019605      0        Giveaway              -64.0               36.0   \n\n  time_last_event distance_last_event is_rebound  Change in shot angle  \\\n0            13.0           78.102497      False              0.000000   \n1             1.0            5.000000       True             -0.348771   \n2            29.0           25.079872       True             -0.099669   \n3            36.0           69.921384      False              0.000000   \n4             3.0           45.221676       True             -0.757420   \n\n       Speed  \n0   0.000000  \n1   5.000000  \n2   0.864823  \n3   1.942261  \n4  15.073892  \n\n[5 rows x 31 columns]",
      "text/html": "<div>\n<style scoped>\n    .dataframe tbody tr th:only-of-type {\n        vertical-align: middle;\n    }\n\n    .dataframe tbody tr th {\n        vertical-align: top;\n    }\n\n    .dataframe thead th {\n        text-align: right;\n    }\n</style>\n<table border=\"1\" class=\"dataframe\">\n  <thead>\n    <tr style=\"text-align: right;\">\n      <th></th>\n      <th>Unnamed: 0</th>\n      <th>gamePk</th>\n      <th>homeTeam</th>\n      <th>period</th>\n      <th>periodType</th>\n      <th>periodTime</th>\n      <th>periodTimeRemaining</th>\n      <th>dateTime</th>\n      <th>teamId</th>\n      <th>teamName</th>\n      <th>...</th>\n      <th>angle</th>\n      <th>isgoal</th>\n      <th>last_event_type</th>\n      <th>coor_x_last_event</th>\n      <th>coor_y_last_event</th>\n      <th>time_last_event</th>\n      <th>distance_last_event</th>\n      <th>is_rebound</th>\n      <th>Change in shot angle</th>\n      <th>Speed</th>\n    </tr>\n  </thead>\n  <tbody>\n    <tr>\n      <th>0</th>\n      <td>0</td>\n      <td>2017020495</td>\n      <td>Vancouver Canucks</td>\n      <td>1</td>\n      <td>REGULAR</td>\n      <td>00:13</td>\n      <td>19:47</td>\n      <td>2017-12-16T03:08:32Z</td>\n      <td>23</td>\n      <td>Vancouver Canucks</td>\n      <td>...</td>\n      <td>0.348771</td>\n      <td>0</td>\n      <td>Faceoff</td>\n      <td>0.0</td>\n      <td>0.0</td>\n      <td>13.0</td>\n      <td>78.102497</td>\n      <td>False</td>\n      <td>0.000000</td>\n      <td>0.000000</td>\n    </tr>\n    <tr>\n      <th>1</th>\n      <td>1</td>\n      <td>2017020495</td>\n      <td>Vancouver Canucks</td>\n      <td>1</td>\n      <td>REGULAR</td>\n      <td>00:14</td>\n      <td>19:46</td>\n      <td>2017-12-16T03:08:41Z</td>\n      <td>23</td>\n      <td>Vancouver Canucks</td>\n      <td>...</td>\n      <td>0.000000</td>\n      <td>0</td>\n      <td>Shot</td>\n      <td>-78.0</td>\n      <td>4.0</td>\n      <td>1.0</td>\n      <td>5.000000</td>\n      <td>True</td>\n      <td>-0.348771</td>\n      <td>5.000000</td>\n    </tr>\n    <tr>\n      <th>2</th>\n      <td>2</td>\n      <td>2017020495</td>\n      <td>Vancouver Canucks</td>\n      <td>1</td>\n      <td>REGULAR</td>\n      <td>00:44</td>\n      <td>19:16</td>\n      <td>2017-12-16T03:09:40Z</td>\n      <td>23</td>\n      <td>Vancouver Canucks</td>\n      <td>...</td>\n      <td>-0.099669</td>\n      <td>1</td>\n      <td>Faceoff</td>\n      <td>-69.0</td>\n      <td>22.0</td>\n      <td>29.0</td>\n      <td>25.079872</td>\n      <td>True</td>\n      <td>-0.099669</td>\n      <td>0.864823</td>\n    </tr>\n    <tr>\n      <th>3</th>\n      <td>3</td>\n      <td>2017020495</td>\n      <td>Vancouver Canucks</td>\n      <td>1</td>\n      <td>REGULAR</td>\n      <td>01:20</td>\n      <td>18:40</td>\n      <td>2017-12-16T03:10:50Z</td>\n      <td>23</td>\n      <td>Vancouver Canucks</td>\n      <td>...</td>\n      <td>0.737815</td>\n      <td>0</td>\n      <td>Faceoff</td>\n      <td>0.0</td>\n      <td>0.0</td>\n      <td>36.0</td>\n      <td>69.921384</td>\n      <td>False</td>\n      <td>0.000000</td>\n      <td>1.942261</td>\n    </tr>\n    <tr>\n      <th>4</th>\n      <td>4</td>\n      <td>2017020495</td>\n      <td>Vancouver Canucks</td>\n      <td>1</td>\n      <td>REGULAR</td>\n      <td>02:08</td>\n      <td>17:52</td>\n      <td>2017-12-16T03:12:03Z</td>\n      <td>23</td>\n      <td>Vancouver Canucks</td>\n      <td>...</td>\n      <td>-0.019605</td>\n      <td>0</td>\n      <td>Giveaway</td>\n      <td>-64.0</td>\n      <td>36.0</td>\n      <td>3.0</td>\n      <td>45.221676</td>\n      <td>True</td>\n      <td>-0.757420</td>\n      <td>15.073892</td>\n    </tr>\n  </tbody>\n</table>\n<p>5 rows × 31 columns</p>\n</div>"
     },
     "execution_count": 2,
     "metadata": {},
     "output_type": "execute_result"
    }
   ],
   "source": [
    "# Create new columns 'is_rebound', 'Change in shot angle', and 'Speed'\n",
    "df['is_rebound'] = False\n",
    "df['Change in shot angle'] = 0.0\n",
    "df['Speed'] = 0.0\n",
    "\n",
    "# Apply condition logic to each row\n",
    "for index, row in df.iterrows():\n",
    "    # Check if the previous event is 'Shot' and if the game period is the same as the previous period\n",
    "    if index > 0 and df.loc[index - 1, 'eventType'] == 'Shot' and df.loc[index, 'period'] == df.loc[index - 1, 'period']:\n",
    "        df.at[index, 'is_rebound'] = True\n",
    "        # Calculate the change in shot angle\n",
    "        prev_angle = df.loc[index - 1, 'angle']\n",
    "        current_angle = df.loc[index, 'angle']\n",
    "        df.at[index, 'Change in shot angle'] = current_angle - prev_angle\n",
    "\n",
    "    # Calculate the speed\n",
    "    if index > 0:\n",
    "        distance_from_last_event = df.loc[index, 'distance_last_event']\n",
    "        time_from_last_event = df.loc[index, 'time_last_event']\n",
    "        if time_from_last_event != 0:\n",
    "            df.at[index, 'Speed'] = distance_from_last_event / time_from_last_event\n",
    "\n",
    "# Display the processed data\n",
    "df.head()"
   ],
   "metadata": {
    "collapsed": false,
    "ExecuteTime": {
     "end_time": "2023-11-09T19:11:04.197369300Z",
     "start_time": "2023-11-09T19:10:25.150812800Z"
    }
   }
  },
  {
   "cell_type": "code",
   "execution_count": 3,
   "outputs": [],
   "source": [
    "# Write the processed DataFrame back to a CSV file\n",
    "df.to_csv('tidyData_fe3.csv', index=False)"
   ],
   "metadata": {
    "collapsed": false,
    "ExecuteTime": {
     "end_time": "2023-11-09T19:11:14.949531800Z",
     "start_time": "2023-11-09T19:11:12.216811700Z"
    }
   }
  },
  {
   "cell_type": "code",
   "execution_count": null,
   "outputs": [],
   "source": [],
   "metadata": {
    "collapsed": false
   }
  }
 ],
 "metadata": {
  "kernelspec": {
   "display_name": "Python 3",
   "language": "python",
   "name": "python3"
  },
  "language_info": {
   "codemirror_mode": {
    "name": "ipython",
    "version": 2
   },
   "file_extension": ".py",
   "mimetype": "text/x-python",
   "name": "python",
   "nbconvert_exporter": "python",
   "pygments_lexer": "ipython2",
   "version": "2.7.6"
  }
 },
 "nbformat": 4,
 "nbformat_minor": 0
}
